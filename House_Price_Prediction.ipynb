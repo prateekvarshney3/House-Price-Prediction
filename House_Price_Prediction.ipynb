{
 "cells": [
  {
   "attachments": {},
   "cell_type": "markdown",
   "id": "35a146db",
   "metadata": {},
   "source": [
    "# Prediction House Prices."
   ]
  },
  {
   "cell_type": "markdown",
   "id": "d0b2df55",
   "metadata": {},
   "source": [
    "## Introduction\n",
    "\n",
    "A huge step is always buying a new house. Is it the environment? Is it the general calibre of the house? Is it the size, perhaps? Could it eventually be resold for a profit? Economic growth is crucial since housing demand is frequently seen to be income-elastic, increasing household incomes. Here, we'll utilise machine learning to make data-based predictions about housing prices.\n",
    "\n",
    "Making a decision about which features should be given priority is undoubtedly tough. In the modern era, machine learning enables an entrepreneur to estimate the house price with the greatest degree of market trend accuracy and to develop a model of the historical dataset on \"what happened and why\" to predict \"what is going to happen.\"\n",
    "\n",
    "The project aims to conduct extensive data analysis and the implementation of various machine learning techniques in Python in order to create the best model with the most important features of a house in terms of both business value and realistic perspective. The dataset contains 11 different variables for 532 different houses.\n",
    "\n",
    "### Aim: \n",
    "- Performing necessary feature engineering step to clean clean and modify the data. \n",
    "- Identifying important features that may play important role to predict house price.\n",
    "- Predicitng house price using a machine learning model"
   ]
  },
  {
   "cell_type": "code",
   "execution_count": 81,
   "id": "47cdf37b",
   "metadata": {},
   "outputs": [],
   "source": [
    "# Importing required libraries \n",
    "import numpy as np\n",
    "import pandas as pd\n",
    "import matplotlib.pyplot as plt\n",
    "import seaborn as sns\n",
    "import plotly.express as px"
   ]
  },
  {
   "cell_type": "code",
   "execution_count": 82,
   "id": "f1562250",
   "metadata": {},
   "outputs": [],
   "source": [
    "HP_raw = pd.read_excel('House_price.xlsx') # reading dataset\n",
    "HP = HP_raw.copy() # creating a new copy"
   ]
  },
  {
   "cell_type": "code",
   "execution_count": 83,
   "id": "f217d417",
   "metadata": {},
   "outputs": [
    {
     "data": {
      "text/html": [
       "<div>\n",
       "<style scoped>\n",
       "    .dataframe tbody tr th:only-of-type {\n",
       "        vertical-align: middle;\n",
       "    }\n",
       "\n",
       "    .dataframe tbody tr th {\n",
       "        vertical-align: top;\n",
       "    }\n",
       "\n",
       "    .dataframe thead th {\n",
       "        text-align: right;\n",
       "    }\n",
       "</style>\n",
       "<table border=\"1\" class=\"dataframe\">\n",
       "  <thead>\n",
       "    <tr style=\"text-align: right;\">\n",
       "      <th></th>\n",
       "      <th>h_price</th>\n",
       "      <th>area</th>\n",
       "      <th>no_bedrooms</th>\n",
       "      <th>no_bathrooms</th>\n",
       "      <th>total_stories</th>\n",
       "      <th>mainroad_loc</th>\n",
       "      <th>guestroom</th>\n",
       "      <th>hotwater</th>\n",
       "      <th>airconditioner</th>\n",
       "      <th>parking</th>\n",
       "      <th>furnishingstatus</th>\n",
       "    </tr>\n",
       "  </thead>\n",
       "  <tbody>\n",
       "    <tr>\n",
       "      <th>0</th>\n",
       "      <td>13300000.0</td>\n",
       "      <td>7420.0</td>\n",
       "      <td>4 rooms</td>\n",
       "      <td>2 bathroom</td>\n",
       "      <td>3.0</td>\n",
       "      <td>yes</td>\n",
       "      <td>no</td>\n",
       "      <td>no</td>\n",
       "      <td>yes</td>\n",
       "      <td>2.0</td>\n",
       "      <td>furnished</td>\n",
       "    </tr>\n",
       "    <tr>\n",
       "      <th>1</th>\n",
       "      <td>12250000.0</td>\n",
       "      <td>8960.0</td>\n",
       "      <td>4 rooms</td>\n",
       "      <td>4 bathroom</td>\n",
       "      <td>4.0</td>\n",
       "      <td>yes</td>\n",
       "      <td>no</td>\n",
       "      <td>no</td>\n",
       "      <td>yes</td>\n",
       "      <td>3.0</td>\n",
       "      <td>furnished</td>\n",
       "    </tr>\n",
       "    <tr>\n",
       "      <th>2</th>\n",
       "      <td>12250000.0</td>\n",
       "      <td>9960.0</td>\n",
       "      <td>3 rooms</td>\n",
       "      <td>2 bathroom</td>\n",
       "      <td>2.0</td>\n",
       "      <td>yes</td>\n",
       "      <td>no</td>\n",
       "      <td>no</td>\n",
       "      <td>no</td>\n",
       "      <td>2.0</td>\n",
       "      <td>semi-furnished</td>\n",
       "    </tr>\n",
       "    <tr>\n",
       "      <th>3</th>\n",
       "      <td>12215000.0</td>\n",
       "      <td>7500.0</td>\n",
       "      <td>4 rooms</td>\n",
       "      <td>2 bathroom</td>\n",
       "      <td>2.0</td>\n",
       "      <td>yes</td>\n",
       "      <td>no</td>\n",
       "      <td>no</td>\n",
       "      <td>yes</td>\n",
       "      <td>3.0</td>\n",
       "      <td>furnished</td>\n",
       "    </tr>\n",
       "    <tr>\n",
       "      <th>4</th>\n",
       "      <td>11410000.0</td>\n",
       "      <td>NaN</td>\n",
       "      <td>4 rooms</td>\n",
       "      <td>1 bathroom</td>\n",
       "      <td>2.0</td>\n",
       "      <td>yes</td>\n",
       "      <td>yes</td>\n",
       "      <td>no</td>\n",
       "      <td>yes</td>\n",
       "      <td>2.0</td>\n",
       "      <td>furnished</td>\n",
       "    </tr>\n",
       "  </tbody>\n",
       "</table>\n",
       "</div>"
      ],
      "text/plain": [
       "      h_price    area no_bedrooms no_bathrooms  total_stories mainroad_loc  \\\n",
       "0  13300000.0  7420.0     4 rooms   2 bathroom            3.0          yes   \n",
       "1  12250000.0  8960.0     4 rooms   4 bathroom            4.0          yes   \n",
       "2  12250000.0  9960.0     3 rooms   2 bathroom            2.0          yes   \n",
       "3  12215000.0  7500.0     4 rooms   2 bathroom            2.0          yes   \n",
       "4  11410000.0     NaN     4 rooms   1 bathroom            2.0          yes   \n",
       "\n",
       "  guestroom hotwater airconditioner  parking furnishingstatus  \n",
       "0        no       no            yes      2.0        furnished  \n",
       "1        no       no            yes      3.0        furnished  \n",
       "2        no       no             no      2.0   semi-furnished  \n",
       "3        no       no            yes      3.0        furnished  \n",
       "4       yes       no            yes      2.0        furnished  "
      ]
     },
     "execution_count": 83,
     "metadata": {},
     "output_type": "execute_result"
    }
   ],
   "source": [
    "HP.head() # exploring first five variables to identify anamolies in the data"
   ]
  },
  {
   "cell_type": "markdown",
   "id": "68b84cd3",
   "metadata": {},
   "source": [
    "- There are missing values present in few columns\n",
    "- no_bedrooms and no_bathrooms need to be performed well."
   ]
  },
  {
   "cell_type": "code",
   "execution_count": 84,
   "id": "9c96ce18",
   "metadata": {},
   "outputs": [
    {
     "name": "stdout",
     "output_type": "stream",
     "text": [
      "<class 'pandas.core.frame.DataFrame'>\n",
      "RangeIndex: 532 entries, 0 to 531\n",
      "Data columns (total 11 columns):\n",
      " #   Column            Non-Null Count  Dtype  \n",
      "---  ------            --------------  -----  \n",
      " 0   h_price           530 non-null    float64\n",
      " 1   area              516 non-null    float64\n",
      " 2   no_bedrooms       531 non-null    object \n",
      " 3   no_bathrooms      531 non-null    object \n",
      " 4   total_stories     530 non-null    float64\n",
      " 5   mainroad_loc      530 non-null    object \n",
      " 6   guestroom         530 non-null    object \n",
      " 7   hotwater          531 non-null    object \n",
      " 8   airconditioner    530 non-null    object \n",
      " 9   parking           531 non-null    float64\n",
      " 10  furnishingstatus  530 non-null    object \n",
      "dtypes: float64(4), object(7)\n",
      "memory usage: 45.8+ KB\n"
     ]
    }
   ],
   "source": [
    "HP.info()"
   ]
  },
  {
   "cell_type": "code",
   "execution_count": 85,
   "id": "2d845a52",
   "metadata": {},
   "outputs": [
    {
     "data": {
      "text/plain": [
       "(532, 11)"
      ]
     },
     "execution_count": 85,
     "metadata": {},
     "output_type": "execute_result"
    }
   ],
   "source": [
    "HP.shape # Rechecking the number of observations and variables in the dataset"
   ]
  },
  {
   "cell_type": "code",
   "execution_count": 86,
   "id": "7b6f23a5",
   "metadata": {},
   "outputs": [
    {
     "data": {
      "text/html": [
       "<div>\n",
       "<style scoped>\n",
       "    .dataframe tbody tr th:only-of-type {\n",
       "        vertical-align: middle;\n",
       "    }\n",
       "\n",
       "    .dataframe tbody tr th {\n",
       "        vertical-align: top;\n",
       "    }\n",
       "\n",
       "    .dataframe thead th {\n",
       "        text-align: right;\n",
       "    }\n",
       "</style>\n",
       "<table border=\"1\" class=\"dataframe\">\n",
       "  <thead>\n",
       "    <tr style=\"text-align: right;\">\n",
       "      <th></th>\n",
       "      <th>h_price</th>\n",
       "      <th>area</th>\n",
       "      <th>no_bedrooms</th>\n",
       "      <th>no_bathrooms</th>\n",
       "      <th>total_stories</th>\n",
       "      <th>mainroad_loc</th>\n",
       "      <th>guestroom</th>\n",
       "      <th>hotwater</th>\n",
       "      <th>airconditioner</th>\n",
       "      <th>parking</th>\n",
       "      <th>furnishingstatus</th>\n",
       "    </tr>\n",
       "  </thead>\n",
       "  <tbody>\n",
       "    <tr>\n",
       "      <th>count</th>\n",
       "      <td>5.300000e+02</td>\n",
       "      <td>516.000000</td>\n",
       "      <td>531</td>\n",
       "      <td>531</td>\n",
       "      <td>530.000000</td>\n",
       "      <td>530</td>\n",
       "      <td>530</td>\n",
       "      <td>531</td>\n",
       "      <td>530</td>\n",
       "      <td>531.000000</td>\n",
       "      <td>530</td>\n",
       "    </tr>\n",
       "    <tr>\n",
       "      <th>unique</th>\n",
       "      <td>NaN</td>\n",
       "      <td>NaN</td>\n",
       "      <td>6</td>\n",
       "      <td>4</td>\n",
       "      <td>NaN</td>\n",
       "      <td>2</td>\n",
       "      <td>2</td>\n",
       "      <td>2</td>\n",
       "      <td>2</td>\n",
       "      <td>NaN</td>\n",
       "      <td>3</td>\n",
       "    </tr>\n",
       "    <tr>\n",
       "      <th>top</th>\n",
       "      <td>NaN</td>\n",
       "      <td>NaN</td>\n",
       "      <td>3 rooms</td>\n",
       "      <td>1 bathroom</td>\n",
       "      <td>NaN</td>\n",
       "      <td>yes</td>\n",
       "      <td>no</td>\n",
       "      <td>no</td>\n",
       "      <td>no</td>\n",
       "      <td>NaN</td>\n",
       "      <td>semi-furnished</td>\n",
       "    </tr>\n",
       "    <tr>\n",
       "      <th>freq</th>\n",
       "      <td>NaN</td>\n",
       "      <td>NaN</td>\n",
       "      <td>290</td>\n",
       "      <td>392</td>\n",
       "      <td>NaN</td>\n",
       "      <td>455</td>\n",
       "      <td>435</td>\n",
       "      <td>507</td>\n",
       "      <td>361</td>\n",
       "      <td>NaN</td>\n",
       "      <td>223</td>\n",
       "    </tr>\n",
       "    <tr>\n",
       "      <th>mean</th>\n",
       "      <td>4.780457e+06</td>\n",
       "      <td>5173.277132</td>\n",
       "      <td>NaN</td>\n",
       "      <td>NaN</td>\n",
       "      <td>1.800000</td>\n",
       "      <td>NaN</td>\n",
       "      <td>NaN</td>\n",
       "      <td>NaN</td>\n",
       "      <td>NaN</td>\n",
       "      <td>0.691149</td>\n",
       "      <td>NaN</td>\n",
       "    </tr>\n",
       "    <tr>\n",
       "      <th>std</th>\n",
       "      <td>1.871737e+06</td>\n",
       "      <td>2196.618447</td>\n",
       "      <td>NaN</td>\n",
       "      <td>NaN</td>\n",
       "      <td>0.863895</td>\n",
       "      <td>NaN</td>\n",
       "      <td>NaN</td>\n",
       "      <td>NaN</td>\n",
       "      <td>NaN</td>\n",
       "      <td>0.859298</td>\n",
       "      <td>NaN</td>\n",
       "    </tr>\n",
       "    <tr>\n",
       "      <th>min</th>\n",
       "      <td>1.750000e+06</td>\n",
       "      <td>1650.000000</td>\n",
       "      <td>NaN</td>\n",
       "      <td>NaN</td>\n",
       "      <td>1.000000</td>\n",
       "      <td>NaN</td>\n",
       "      <td>NaN</td>\n",
       "      <td>NaN</td>\n",
       "      <td>NaN</td>\n",
       "      <td>0.000000</td>\n",
       "      <td>NaN</td>\n",
       "    </tr>\n",
       "    <tr>\n",
       "      <th>25%</th>\n",
       "      <td>3.465000e+06</td>\n",
       "      <td>3596.000000</td>\n",
       "      <td>NaN</td>\n",
       "      <td>NaN</td>\n",
       "      <td>1.000000</td>\n",
       "      <td>NaN</td>\n",
       "      <td>NaN</td>\n",
       "      <td>NaN</td>\n",
       "      <td>NaN</td>\n",
       "      <td>0.000000</td>\n",
       "      <td>NaN</td>\n",
       "    </tr>\n",
       "    <tr>\n",
       "      <th>50%</th>\n",
       "      <td>4.340000e+06</td>\n",
       "      <td>4600.000000</td>\n",
       "      <td>NaN</td>\n",
       "      <td>NaN</td>\n",
       "      <td>2.000000</td>\n",
       "      <td>NaN</td>\n",
       "      <td>NaN</td>\n",
       "      <td>NaN</td>\n",
       "      <td>NaN</td>\n",
       "      <td>0.000000</td>\n",
       "      <td>NaN</td>\n",
       "    </tr>\n",
       "    <tr>\n",
       "      <th>75%</th>\n",
       "      <td>5.766250e+06</td>\n",
       "      <td>6405.000000</td>\n",
       "      <td>NaN</td>\n",
       "      <td>NaN</td>\n",
       "      <td>2.000000</td>\n",
       "      <td>NaN</td>\n",
       "      <td>NaN</td>\n",
       "      <td>NaN</td>\n",
       "      <td>NaN</td>\n",
       "      <td>1.000000</td>\n",
       "      <td>NaN</td>\n",
       "    </tr>\n",
       "    <tr>\n",
       "      <th>max</th>\n",
       "      <td>1.330000e+07</td>\n",
       "      <td>16200.000000</td>\n",
       "      <td>NaN</td>\n",
       "      <td>NaN</td>\n",
       "      <td>4.000000</td>\n",
       "      <td>NaN</td>\n",
       "      <td>NaN</td>\n",
       "      <td>NaN</td>\n",
       "      <td>NaN</td>\n",
       "      <td>3.000000</td>\n",
       "      <td>NaN</td>\n",
       "    </tr>\n",
       "  </tbody>\n",
       "</table>\n",
       "</div>"
      ],
      "text/plain": [
       "             h_price          area no_bedrooms no_bathrooms  total_stories  \\\n",
       "count   5.300000e+02    516.000000         531          531     530.000000   \n",
       "unique           NaN           NaN           6            4            NaN   \n",
       "top              NaN           NaN     3 rooms   1 bathroom            NaN   \n",
       "freq             NaN           NaN         290          392            NaN   \n",
       "mean    4.780457e+06   5173.277132         NaN          NaN       1.800000   \n",
       "std     1.871737e+06   2196.618447         NaN          NaN       0.863895   \n",
       "min     1.750000e+06   1650.000000         NaN          NaN       1.000000   \n",
       "25%     3.465000e+06   3596.000000         NaN          NaN       1.000000   \n",
       "50%     4.340000e+06   4600.000000         NaN          NaN       2.000000   \n",
       "75%     5.766250e+06   6405.000000         NaN          NaN       2.000000   \n",
       "max     1.330000e+07  16200.000000         NaN          NaN       4.000000   \n",
       "\n",
       "       mainroad_loc guestroom hotwater airconditioner     parking  \\\n",
       "count           530       530      531            530  531.000000   \n",
       "unique            2         2        2              2         NaN   \n",
       "top             yes        no       no             no         NaN   \n",
       "freq            455       435      507            361         NaN   \n",
       "mean            NaN       NaN      NaN            NaN    0.691149   \n",
       "std             NaN       NaN      NaN            NaN    0.859298   \n",
       "min             NaN       NaN      NaN            NaN    0.000000   \n",
       "25%             NaN       NaN      NaN            NaN    0.000000   \n",
       "50%             NaN       NaN      NaN            NaN    0.000000   \n",
       "75%             NaN       NaN      NaN            NaN    1.000000   \n",
       "max             NaN       NaN      NaN            NaN    3.000000   \n",
       "\n",
       "       furnishingstatus  \n",
       "count               530  \n",
       "unique                3  \n",
       "top      semi-furnished  \n",
       "freq                223  \n",
       "mean                NaN  \n",
       "std                 NaN  \n",
       "min                 NaN  \n",
       "25%                 NaN  \n",
       "50%                 NaN  \n",
       "75%                 NaN  \n",
       "max                 NaN  "
      ]
     },
     "execution_count": 86,
     "metadata": {},
     "output_type": "execute_result"
    }
   ],
   "source": [
    "HP.describe(include = 'all')"
   ]
  },
  {
   "cell_type": "code",
   "execution_count": 87,
   "id": "853f0f99",
   "metadata": {},
   "outputs": [
    {
     "data": {
      "text/plain": [
       "Index(['h_price', 'area', 'no_bedrooms', 'no_bathrooms', 'total_stories',\n",
       "       'mainroad_loc', 'guestroom', 'hotwater', 'airconditioner', 'parking',\n",
       "       'furnishingstatus'],\n",
       "      dtype='object')"
      ]
     },
     "execution_count": 87,
     "metadata": {},
     "output_type": "execute_result"
    }
   ],
   "source": [
    "HP.columns"
   ]
  },
  {
   "cell_type": "markdown",
   "id": "c403ac78",
   "metadata": {},
   "source": [
    "### Dealing with missing values"
   ]
  },
  {
   "cell_type": "code",
   "execution_count": 88,
   "id": "ed3463b7",
   "metadata": {},
   "outputs": [
    {
     "data": {
      "text/plain": [
       "h_price              2\n",
       "area                16\n",
       "no_bedrooms          1\n",
       "no_bathrooms         1\n",
       "total_stories        2\n",
       "mainroad_loc         2\n",
       "guestroom            2\n",
       "hotwater             1\n",
       "airconditioner       2\n",
       "parking              1\n",
       "furnishingstatus     2\n",
       "dtype: int64"
      ]
     },
     "execution_count": 88,
     "metadata": {},
     "output_type": "execute_result"
    }
   ],
   "source": [
    "HP.isnull().sum() # checking total number of missing values in each column"
   ]
  },
  {
   "cell_type": "code",
   "execution_count": 89,
   "id": "5101ab84",
   "metadata": {},
   "outputs": [
    {
     "data": {
      "text/plain": [
       "90     7\n",
       "121    7\n",
       "dtype: int64"
      ]
     },
     "execution_count": 89,
     "metadata": {},
     "output_type": "execute_result"
    }
   ],
   "source": [
    "# checking if one observation has missing values more than 1\n",
    "Missing_I = HP.isnull().sum(axis = 1)\n",
    "Missing_I = Missing_I[Missing_I > 1]\n",
    "Missing_I"
   ]
  },
  {
   "cell_type": "code",
   "execution_count": 90,
   "id": "91a6c758",
   "metadata": {},
   "outputs": [
    {
     "data": {
      "text/plain": [
       "<AxesSubplot: >"
      ]
     },
     "execution_count": 90,
     "metadata": {},
     "output_type": "execute_result"
    },
    {
     "data": {
      "image/png": "[encoded data removed]",
      "text/plain": [
       "<Figure size 2500x1000 with 2 Axes>"
      ]
     },
     "metadata": {},
     "output_type": "display_data"
    }
   ],
   "source": [
    "# visualization of missing values\n",
    "import missingno as msno\n",
    "msno.matrix(HP)"
   ]
  },
  {
   "cell_type": "markdown",
   "id": "ad993702",
   "metadata": {},
   "source": [
    "- Apart from area column, rest other columns have very less missing values. \n",
    "- Either we can remove them or replace with something like mean or median too.\n",
    "- Label data (house price) also has some missing values. We have to remove it as it is labelled column.\n",
    "- There are 7 missing values in index 90 and 121. It is also very clear from missing plots. Hence, they have to be romoved."
   ]
  },
  {
   "cell_type": "code",
   "execution_count": 91,
   "id": "5887b6b0",
   "metadata": {},
   "outputs": [],
   "source": [
    "# Dropping the 2 rows with null values for all variables\n",
    "HP.drop(HP[HP['total_stories'].isnull()].index,axis=0, inplace=True)"
   ]
  },
  {
   "cell_type": "code",
   "execution_count": 92,
   "id": "83bb6ba3",
   "metadata": {},
   "outputs": [],
   "source": [
    "# Dropping the null values from target variable\n",
    "HP.drop(HP[HP['h_price'].isnull()].index,axis=0, inplace=True)"
   ]
  },
  {
   "cell_type": "code",
   "execution_count": 93,
   "id": "16e508c0",
   "metadata": {},
   "outputs": [
    {
     "name": "stdout",
     "output_type": "stream",
     "text": [
      "<class 'pandas.core.frame.DataFrame'>\n",
      "Int64Index: 528 entries, 0 to 531\n",
      "Data columns (total 11 columns):\n",
      " #   Column            Non-Null Count  Dtype  \n",
      "---  ------            --------------  -----  \n",
      " 0   h_price           528 non-null    float64\n",
      " 1   area              512 non-null    float64\n",
      " 2   no_bedrooms       528 non-null    object \n",
      " 3   no_bathrooms      528 non-null    object \n",
      " 4   total_stories     528 non-null    float64\n",
      " 5   mainroad_loc      528 non-null    object \n",
      " 6   guestroom         528 non-null    object \n",
      " 7   hotwater          528 non-null    object \n",
      " 8   airconditioner    528 non-null    object \n",
      " 9   parking           528 non-null    float64\n",
      " 10  furnishingstatus  528 non-null    object \n",
      "dtypes: float64(4), object(7)\n",
      "memory usage: 49.5+ KB\n"
     ]
    }
   ],
   "source": [
    "HP.info()"
   ]
  },
  {
   "cell_type": "markdown",
   "id": "1e87ebc6",
   "metadata": {},
   "source": [
    "### Before dealing with missing values we have to encode all categorical data"
   ]
  },
  {
   "cell_type": "code",
   "execution_count": 94,
   "id": "cd419951",
   "metadata": {},
   "outputs": [],
   "source": [
    "# Ordinal encoding for number of bedroom, bathroom and furnishing status\n",
    "# we can also use regular expression too\n",
    "from sklearn.preprocessing import OrdinalEncoder\n",
    "Or_enc = OrdinalEncoder()\n",
    "HP[[\"no_bedrooms\",\"no_bathrooms\", \"furnishingstatus\"]] = Or_enc.fit_transform(HP[[\"no_bedrooms\",\"no_bathrooms\", \"furnishingstatus\"]])"
   ]
  },
  {
   "cell_type": "code",
   "execution_count": 95,
   "id": "65067f23",
   "metadata": {},
   "outputs": [],
   "source": [
    "# label encoding for rest categorical variable\n",
    "from sklearn.preprocessing import LabelEncoder\n",
    "\n",
    "for col in [\"mainroad_loc\",\"guestroom\", \"hotwater\", \"airconditioner\"]:\n",
    "    HP[col] = LabelEncoder().fit_transform(HP[col])"
   ]
  },
  {
   "cell_type": "code",
   "execution_count": 96,
   "id": "b33c1ff1",
   "metadata": {},
   "outputs": [
    {
     "data": {
      "text/html": [
       "<div>\n",
       "<style scoped>\n",
       "    .dataframe tbody tr th:only-of-type {\n",
       "        vertical-align: middle;\n",
       "    }\n",
       "\n",
       "    .dataframe tbody tr th {\n",
       "        vertical-align: top;\n",
       "    }\n",
       "\n",
       "    .dataframe thead th {\n",
       "        text-align: right;\n",
       "    }\n",
       "</style>\n",
       "<table border=\"1\" class=\"dataframe\">\n",
       "  <thead>\n",
       "    <tr style=\"text-align: right;\">\n",
       "      <th></th>\n",
       "      <th>h_price</th>\n",
       "      <th>area</th>\n",
       "      <th>no_bedrooms</th>\n",
       "      <th>no_bathrooms</th>\n",
       "      <th>total_stories</th>\n",
       "      <th>mainroad_loc</th>\n",
       "      <th>guestroom</th>\n",
       "      <th>hotwater</th>\n",
       "      <th>airconditioner</th>\n",
       "      <th>parking</th>\n",
       "      <th>furnishingstatus</th>\n",
       "    </tr>\n",
       "  </thead>\n",
       "  <tbody>\n",
       "    <tr>\n",
       "      <th>0</th>\n",
       "      <td>13300000.0</td>\n",
       "      <td>7420.0</td>\n",
       "      <td>3.0</td>\n",
       "      <td>1.0</td>\n",
       "      <td>3.0</td>\n",
       "      <td>1</td>\n",
       "      <td>0</td>\n",
       "      <td>0</td>\n",
       "      <td>1</td>\n",
       "      <td>2.0</td>\n",
       "      <td>0.0</td>\n",
       "    </tr>\n",
       "    <tr>\n",
       "      <th>1</th>\n",
       "      <td>12250000.0</td>\n",
       "      <td>8960.0</td>\n",
       "      <td>3.0</td>\n",
       "      <td>3.0</td>\n",
       "      <td>4.0</td>\n",
       "      <td>1</td>\n",
       "      <td>0</td>\n",
       "      <td>0</td>\n",
       "      <td>1</td>\n",
       "      <td>3.0</td>\n",
       "      <td>0.0</td>\n",
       "    </tr>\n",
       "    <tr>\n",
       "      <th>2</th>\n",
       "      <td>12250000.0</td>\n",
       "      <td>9960.0</td>\n",
       "      <td>2.0</td>\n",
       "      <td>1.0</td>\n",
       "      <td>2.0</td>\n",
       "      <td>1</td>\n",
       "      <td>0</td>\n",
       "      <td>0</td>\n",
       "      <td>0</td>\n",
       "      <td>2.0</td>\n",
       "      <td>1.0</td>\n",
       "    </tr>\n",
       "    <tr>\n",
       "      <th>3</th>\n",
       "      <td>12215000.0</td>\n",
       "      <td>7500.0</td>\n",
       "      <td>3.0</td>\n",
       "      <td>1.0</td>\n",
       "      <td>2.0</td>\n",
       "      <td>1</td>\n",
       "      <td>0</td>\n",
       "      <td>0</td>\n",
       "      <td>1</td>\n",
       "      <td>3.0</td>\n",
       "      <td>0.0</td>\n",
       "    </tr>\n",
       "    <tr>\n",
       "      <th>4</th>\n",
       "      <td>11410000.0</td>\n",
       "      <td>NaN</td>\n",
       "      <td>3.0</td>\n",
       "      <td>0.0</td>\n",
       "      <td>2.0</td>\n",
       "      <td>1</td>\n",
       "      <td>1</td>\n",
       "      <td>0</td>\n",
       "      <td>1</td>\n",
       "      <td>2.0</td>\n",
       "      <td>0.0</td>\n",
       "    </tr>\n",
       "  </tbody>\n",
       "</table>\n",
       "</div>"
      ],
      "text/plain": [
       "      h_price    area  no_bedrooms  no_bathrooms  total_stories  mainroad_loc  \\\n",
       "0  13300000.0  7420.0          3.0           1.0            3.0             1   \n",
       "1  12250000.0  8960.0          3.0           3.0            4.0             1   \n",
       "2  12250000.0  9960.0          2.0           1.0            2.0             1   \n",
       "3  12215000.0  7500.0          3.0           1.0            2.0             1   \n",
       "4  11410000.0     NaN          3.0           0.0            2.0             1   \n",
       "\n",
       "   guestroom  hotwater  airconditioner  parking  furnishingstatus  \n",
       "0          0         0               1      2.0               0.0  \n",
       "1          0         0               1      3.0               0.0  \n",
       "2          0         0               0      2.0               1.0  \n",
       "3          0         0               1      3.0               0.0  \n",
       "4          1         0               1      2.0               0.0  "
      ]
     },
     "execution_count": 96,
     "metadata": {},
     "output_type": "execute_result"
    }
   ],
   "source": [
    "HP.head()"
   ]
  },
  {
   "cell_type": "code",
   "execution_count": 97,
   "id": "68ff3669",
   "metadata": {},
   "outputs": [
    {
     "data": {
      "text/html": [
       "<div>\n",
       "<style scoped>\n",
       "    .dataframe tbody tr th:only-of-type {\n",
       "        vertical-align: middle;\n",
       "    }\n",
       "\n",
       "    .dataframe tbody tr th {\n",
       "        vertical-align: top;\n",
       "    }\n",
       "\n",
       "    .dataframe thead th {\n",
       "        text-align: right;\n",
       "    }\n",
       "</style>\n",
       "<table border=\"1\" class=\"dataframe\">\n",
       "  <thead>\n",
       "    <tr style=\"text-align: right;\">\n",
       "      <th></th>\n",
       "      <th>area</th>\n",
       "      <th>no_bedrooms</th>\n",
       "      <th>no_bathrooms</th>\n",
       "      <th>total_stories</th>\n",
       "      <th>mainroad_loc</th>\n",
       "      <th>guestroom</th>\n",
       "      <th>hotwater</th>\n",
       "      <th>airconditioner</th>\n",
       "      <th>parking</th>\n",
       "      <th>furnishingstatus</th>\n",
       "    </tr>\n",
       "  </thead>\n",
       "  <tbody>\n",
       "    <tr>\n",
       "      <th>0</th>\n",
       "      <td>7420.0</td>\n",
       "      <td>3.0</td>\n",
       "      <td>1.0</td>\n",
       "      <td>3.0</td>\n",
       "      <td>1</td>\n",
       "      <td>0</td>\n",
       "      <td>0</td>\n",
       "      <td>1</td>\n",
       "      <td>2.0</td>\n",
       "      <td>0.0</td>\n",
       "    </tr>\n",
       "    <tr>\n",
       "      <th>1</th>\n",
       "      <td>8960.0</td>\n",
       "      <td>3.0</td>\n",
       "      <td>3.0</td>\n",
       "      <td>4.0</td>\n",
       "      <td>1</td>\n",
       "      <td>0</td>\n",
       "      <td>0</td>\n",
       "      <td>1</td>\n",
       "      <td>3.0</td>\n",
       "      <td>0.0</td>\n",
       "    </tr>\n",
       "    <tr>\n",
       "      <th>2</th>\n",
       "      <td>9960.0</td>\n",
       "      <td>2.0</td>\n",
       "      <td>1.0</td>\n",
       "      <td>2.0</td>\n",
       "      <td>1</td>\n",
       "      <td>0</td>\n",
       "      <td>0</td>\n",
       "      <td>0</td>\n",
       "      <td>2.0</td>\n",
       "      <td>1.0</td>\n",
       "    </tr>\n",
       "    <tr>\n",
       "      <th>3</th>\n",
       "      <td>7500.0</td>\n",
       "      <td>3.0</td>\n",
       "      <td>1.0</td>\n",
       "      <td>2.0</td>\n",
       "      <td>1</td>\n",
       "      <td>0</td>\n",
       "      <td>0</td>\n",
       "      <td>1</td>\n",
       "      <td>3.0</td>\n",
       "      <td>0.0</td>\n",
       "    </tr>\n",
       "    <tr>\n",
       "      <th>4</th>\n",
       "      <td>NaN</td>\n",
       "      <td>3.0</td>\n",
       "      <td>0.0</td>\n",
       "      <td>2.0</td>\n",
       "      <td>1</td>\n",
       "      <td>1</td>\n",
       "      <td>0</td>\n",
       "      <td>1</td>\n",
       "      <td>2.0</td>\n",
       "      <td>0.0</td>\n",
       "    </tr>\n",
       "  </tbody>\n",
       "</table>\n",
       "</div>"
      ],
      "text/plain": [
       "     area  no_bedrooms  no_bathrooms  total_stories  mainroad_loc  guestroom  \\\n",
       "0  7420.0          3.0           1.0            3.0             1          0   \n",
       "1  8960.0          3.0           3.0            4.0             1          0   \n",
       "2  9960.0          2.0           1.0            2.0             1          0   \n",
       "3  7500.0          3.0           1.0            2.0             1          0   \n",
       "4     NaN          3.0           0.0            2.0             1          1   \n",
       "\n",
       "   hotwater  airconditioner  parking  furnishingstatus  \n",
       "0         0               1      2.0               0.0  \n",
       "1         0               1      3.0               0.0  \n",
       "2         0               0      2.0               1.0  \n",
       "3         0               1      3.0               0.0  \n",
       "4         0               1      2.0               0.0  "
      ]
     },
     "execution_count": 97,
     "metadata": {},
     "output_type": "execute_result"
    }
   ],
   "source": [
    "# To avoid data leakage from outcom variable splitting the data set\n",
    "Independent = HP.drop('h_price',axis=1)\n",
    "Independent.head()"
   ]
  },
  {
   "cell_type": "code",
   "execution_count": 98,
   "id": "2456502b",
   "metadata": {},
   "outputs": [
    {
     "data": {
      "text/plain": [
       "0    13300000.0\n",
       "1    12250000.0\n",
       "2    12250000.0\n",
       "3    12215000.0\n",
       "4    11410000.0\n",
       "Name: h_price, dtype: float64"
      ]
     },
     "execution_count": 98,
     "metadata": {},
     "output_type": "execute_result"
    }
   ],
   "source": [
    "Dependent = HP['h_price'] # creating Y variable only\n",
    "Dependent.head()"
   ]
  },
  {
   "cell_type": "code",
   "execution_count": 99,
   "id": "0778d483",
   "metadata": {},
   "outputs": [
    {
     "name": "stdout",
     "output_type": "stream",
     "text": [
      "Imputing row 1/528 with 0 missing, elapsed time: 0.029\n",
      "Imputing row 101/528 with 0 missing, elapsed time: 0.029\n",
      "Imputing row 201/528 with 0 missing, elapsed time: 0.031\n",
      "Imputing row 301/528 with 0 missing, elapsed time: 0.031\n",
      "Imputing row 401/528 with 0 missing, elapsed time: 0.031\n",
      "Imputing row 501/528 with 0 missing, elapsed time: 0.031\n"
     ]
    },
    {
     "name": "stderr",
     "output_type": "stream",
     "text": [
      "C:\\Users\\prate\\AppData\\Local\\Temp\\ipykernel_19052\\2857701596.py:5: FutureWarning: In a future version, `df.iloc[:, i] = newvals` will attempt to set the values inplace instead of always setting a new array. To retain the old behavior, use either `df[df.columns[i]] = newvals` or, if columns are non-unique, `df.isetitem(i, newvals)`\n",
      "  Independent_knn.iloc[:, :] = knn_imputer.fit_transform(Independent_knn)\n"
     ]
    }
   ],
   "source": [
    "# Imputation using KNN\n",
    "from fancyimpute import KNN\n",
    "knn_imputer = KNN()\n",
    "Independent_knn = Independent.copy(deep=True)\n",
    "Independent_knn.iloc[:, :] = knn_imputer.fit_transform(Independent_knn)"
   ]
  },
  {
   "cell_type": "code",
   "execution_count": 100,
   "id": "d8e0e363",
   "metadata": {},
   "outputs": [
    {
     "name": "stderr",
     "output_type": "stream",
     "text": [
      "C:\\Users\\prate\\AppData\\Local\\Temp\\ipykernel_19052\\3652785777.py:5: FutureWarning: In a future version, `df.iloc[:, i] = newvals` will attempt to set the values inplace instead of always setting a new array. To retain the old behavior, use either `df[df.columns[i]] = newvals` or, if columns are non-unique, `df.isetitem(i, newvals)`\n",
      "  Independent_MICE.iloc[:, :] = MICE_imputer.fit_transform(Independent_MICE)\n"
     ]
    }
   ],
   "source": [
    "# Imputation using MICE\n",
    "from fancyimpute import IterativeImputer\n",
    "MICE_imputer = IterativeImputer()\n",
    "Independent_MICE = Independent.copy(deep=True)\n",
    "Independent_MICE.iloc[:, :] = MICE_imputer.fit_transform(Independent_MICE)"
   ]
  },
  {
   "cell_type": "code",
   "execution_count": 101,
   "id": "3e5965e8",
   "metadata": {},
   "outputs": [
    {
     "data": {
      "text/plain": [
       "<AxesSubplot: xlabel='area', ylabel='Count'>"
      ]
     },
     "execution_count": 101,
     "metadata": {},
     "output_type": "execute_result"
    },
    {
     "data": {
      "image/png": "[encoded data removed]",
      "text/plain": [
       "<Figure size 640x480 with 3 Axes>"
      ]
     },
     "metadata": {},
     "output_type": "display_data"
    }
   ],
   "source": [
    "fig, ax =plt.subplots(1,3)\n",
    "sns.histplot(HP['area'],bins=20, color=\"purple\", ax=ax[0])\n",
    "sns.histplot(Independent_knn['area'], color=\"red\", bins=20, ax=ax[1])\n",
    "sns.histplot(Independent_MICE['area'], color=\"green\", bins=20, ax=ax[2])"
   ]
  },
  {
   "cell_type": "code",
   "execution_count": 102,
   "id": "5f3b44c5",
   "metadata": {},
   "outputs": [
    {
     "data": {
      "text/plain": [
       "<AxesSubplot: >"
      ]
     },
     "execution_count": 102,
     "metadata": {},
     "output_type": "execute_result"
    },
    {
     "data": {
      "image/png": "[encoded data removed]",
      "text/plain": [
       "<Figure size 640x480 with 3 Axes>"
      ]
     },
     "metadata": {},
     "output_type": "display_data"
    }
   ],
   "source": [
    "fig, ax =plt.subplots(1,3)\n",
    "sns.boxplot(HP['area'], color=\"purple\", ax=ax[0])\n",
    "sns.boxplot(Independent_knn['area'], color=\"red\", ax=ax[1])\n",
    "sns.boxplot(Independent_MICE['area'], color=\"green\", ax=ax[2])"
   ]
  },
  {
   "cell_type": "code",
   "execution_count": 103,
   "id": "5c3e0fd9",
   "metadata": {},
   "outputs": [
    {
     "data": {
      "text/html": [
       "<div>\n",
       "<style scoped>\n",
       "    .dataframe tbody tr th:only-of-type {\n",
       "        vertical-align: middle;\n",
       "    }\n",
       "\n",
       "    .dataframe tbody tr th {\n",
       "        vertical-align: top;\n",
       "    }\n",
       "\n",
       "    .dataframe thead th {\n",
       "        text-align: right;\n",
       "    }\n",
       "</style>\n",
       "<table border=\"1\" class=\"dataframe\">\n",
       "  <thead>\n",
       "    <tr style=\"text-align: right;\">\n",
       "      <th></th>\n",
       "      <th>area</th>\n",
       "      <th>no_bedrooms</th>\n",
       "      <th>no_bathrooms</th>\n",
       "      <th>total_stories</th>\n",
       "      <th>mainroad_loc</th>\n",
       "      <th>guestroom</th>\n",
       "      <th>hotwater</th>\n",
       "      <th>airconditioner</th>\n",
       "      <th>parking</th>\n",
       "      <th>furnishingstatus</th>\n",
       "    </tr>\n",
       "  </thead>\n",
       "  <tbody>\n",
       "    <tr>\n",
       "      <th>count</th>\n",
       "      <td>528.000000</td>\n",
       "      <td>528.000000</td>\n",
       "      <td>528.000000</td>\n",
       "      <td>528.000000</td>\n",
       "      <td>528.000000</td>\n",
       "      <td>528.000000</td>\n",
       "      <td>528.000000</td>\n",
       "      <td>528.000000</td>\n",
       "      <td>528.000000</td>\n",
       "      <td>528.000000</td>\n",
       "    </tr>\n",
       "    <tr>\n",
       "      <th>mean</th>\n",
       "      <td>5162.840220</td>\n",
       "      <td>1.964015</td>\n",
       "      <td>0.284091</td>\n",
       "      <td>1.803030</td>\n",
       "      <td>0.857955</td>\n",
       "      <td>0.179924</td>\n",
       "      <td>0.045455</td>\n",
       "      <td>0.320076</td>\n",
       "      <td>0.695076</td>\n",
       "      <td>1.077652</td>\n",
       "    </tr>\n",
       "    <tr>\n",
       "      <th>std</th>\n",
       "      <td>2182.518656</td>\n",
       "      <td>0.739655</td>\n",
       "      <td>0.503095</td>\n",
       "      <td>0.864123</td>\n",
       "      <td>0.349428</td>\n",
       "      <td>0.384489</td>\n",
       "      <td>0.208496</td>\n",
       "      <td>0.466948</td>\n",
       "      <td>0.860152</td>\n",
       "      <td>0.756774</td>\n",
       "    </tr>\n",
       "    <tr>\n",
       "      <th>min</th>\n",
       "      <td>1650.000000</td>\n",
       "      <td>0.000000</td>\n",
       "      <td>0.000000</td>\n",
       "      <td>1.000000</td>\n",
       "      <td>0.000000</td>\n",
       "      <td>0.000000</td>\n",
       "      <td>0.000000</td>\n",
       "      <td>0.000000</td>\n",
       "      <td>0.000000</td>\n",
       "      <td>0.000000</td>\n",
       "    </tr>\n",
       "    <tr>\n",
       "      <th>25%</th>\n",
       "      <td>3600.000000</td>\n",
       "      <td>1.000000</td>\n",
       "      <td>0.000000</td>\n",
       "      <td>1.000000</td>\n",
       "      <td>1.000000</td>\n",
       "      <td>0.000000</td>\n",
       "      <td>0.000000</td>\n",
       "      <td>0.000000</td>\n",
       "      <td>0.000000</td>\n",
       "      <td>0.750000</td>\n",
       "    </tr>\n",
       "    <tr>\n",
       "      <th>50%</th>\n",
       "      <td>4580.000000</td>\n",
       "      <td>2.000000</td>\n",
       "      <td>0.000000</td>\n",
       "      <td>2.000000</td>\n",
       "      <td>1.000000</td>\n",
       "      <td>0.000000</td>\n",
       "      <td>0.000000</td>\n",
       "      <td>0.000000</td>\n",
       "      <td>0.000000</td>\n",
       "      <td>1.000000</td>\n",
       "    </tr>\n",
       "    <tr>\n",
       "      <th>75%</th>\n",
       "      <td>6360.000000</td>\n",
       "      <td>2.000000</td>\n",
       "      <td>1.000000</td>\n",
       "      <td>2.000000</td>\n",
       "      <td>1.000000</td>\n",
       "      <td>0.000000</td>\n",
       "      <td>0.000000</td>\n",
       "      <td>1.000000</td>\n",
       "      <td>1.000000</td>\n",
       "      <td>2.000000</td>\n",
       "    </tr>\n",
       "    <tr>\n",
       "      <th>max</th>\n",
       "      <td>16200.000000</td>\n",
       "      <td>5.000000</td>\n",
       "      <td>3.000000</td>\n",
       "      <td>4.000000</td>\n",
       "      <td>1.000000</td>\n",
       "      <td>1.000000</td>\n",
       "      <td>1.000000</td>\n",
       "      <td>1.000000</td>\n",
       "      <td>3.000000</td>\n",
       "      <td>2.000000</td>\n",
       "    </tr>\n",
       "  </tbody>\n",
       "</table>\n",
       "</div>"
      ],
      "text/plain": [
       "               area  no_bedrooms  no_bathrooms  total_stories  mainroad_loc  \\\n",
       "count    528.000000   528.000000    528.000000     528.000000    528.000000   \n",
       "mean    5162.840220     1.964015      0.284091       1.803030      0.857955   \n",
       "std     2182.518656     0.739655      0.503095       0.864123      0.349428   \n",
       "min     1650.000000     0.000000      0.000000       1.000000      0.000000   \n",
       "25%     3600.000000     1.000000      0.000000       1.000000      1.000000   \n",
       "50%     4580.000000     2.000000      0.000000       2.000000      1.000000   \n",
       "75%     6360.000000     2.000000      1.000000       2.000000      1.000000   \n",
       "max    16200.000000     5.000000      3.000000       4.000000      1.000000   \n",
       "\n",
       "        guestroom    hotwater  airconditioner     parking  furnishingstatus  \n",
       "count  528.000000  528.000000      528.000000  528.000000        528.000000  \n",
       "mean     0.179924    0.045455        0.320076    0.695076          1.077652  \n",
       "std      0.384489    0.208496        0.466948    0.860152          0.756774  \n",
       "min      0.000000    0.000000        0.000000    0.000000          0.000000  \n",
       "25%      0.000000    0.000000        0.000000    0.000000          0.750000  \n",
       "50%      0.000000    0.000000        0.000000    0.000000          1.000000  \n",
       "75%      0.000000    0.000000        1.000000    1.000000          2.000000  \n",
       "max      1.000000    1.000000        1.000000    3.000000          2.000000  "
      ]
     },
     "execution_count": 103,
     "metadata": {},
     "output_type": "execute_result"
    }
   ],
   "source": [
    "Independent_knn.describe() # using describe function to see if there is any discrepency in numerical measures "
   ]
  },
  {
   "cell_type": "code",
   "execution_count": 104,
   "id": "ddff95b0",
   "metadata": {},
   "outputs": [
    {
     "data": {
      "text/html": [
       "<div>\n",
       "<style scoped>\n",
       "    .dataframe tbody tr th:only-of-type {\n",
       "        vertical-align: middle;\n",
       "    }\n",
       "\n",
       "    .dataframe tbody tr th {\n",
       "        vertical-align: top;\n",
       "    }\n",
       "\n",
       "    .dataframe thead th {\n",
       "        text-align: right;\n",
       "    }\n",
       "</style>\n",
       "<table border=\"1\" class=\"dataframe\">\n",
       "  <thead>\n",
       "    <tr style=\"text-align: right;\">\n",
       "      <th></th>\n",
       "      <th>area</th>\n",
       "      <th>no_bedrooms</th>\n",
       "      <th>no_bathrooms</th>\n",
       "      <th>total_stories</th>\n",
       "      <th>mainroad_loc</th>\n",
       "      <th>guestroom</th>\n",
       "      <th>hotwater</th>\n",
       "      <th>airconditioner</th>\n",
       "      <th>parking</th>\n",
       "      <th>furnishingstatus</th>\n",
       "    </tr>\n",
       "  </thead>\n",
       "  <tbody>\n",
       "    <tr>\n",
       "      <th>count</th>\n",
       "      <td>528.000000</td>\n",
       "      <td>528.000000</td>\n",
       "      <td>528.000000</td>\n",
       "      <td>528.000000</td>\n",
       "      <td>528.000000</td>\n",
       "      <td>528.000000</td>\n",
       "      <td>528.000000</td>\n",
       "      <td>528.000000</td>\n",
       "      <td>528.000000</td>\n",
       "      <td>528.000000</td>\n",
       "    </tr>\n",
       "    <tr>\n",
       "      <th>mean</th>\n",
       "      <td>5169.721163</td>\n",
       "      <td>1.964015</td>\n",
       "      <td>0.284091</td>\n",
       "      <td>1.803030</td>\n",
       "      <td>0.857955</td>\n",
       "      <td>0.179924</td>\n",
       "      <td>0.045455</td>\n",
       "      <td>0.320076</td>\n",
       "      <td>0.695076</td>\n",
       "      <td>1.077652</td>\n",
       "    </tr>\n",
       "    <tr>\n",
       "      <th>std</th>\n",
       "      <td>2173.611257</td>\n",
       "      <td>0.739655</td>\n",
       "      <td>0.503095</td>\n",
       "      <td>0.864123</td>\n",
       "      <td>0.349428</td>\n",
       "      <td>0.384489</td>\n",
       "      <td>0.208496</td>\n",
       "      <td>0.466948</td>\n",
       "      <td>0.860152</td>\n",
       "      <td>0.756774</td>\n",
       "    </tr>\n",
       "    <tr>\n",
       "      <th>min</th>\n",
       "      <td>1650.000000</td>\n",
       "      <td>0.000000</td>\n",
       "      <td>0.000000</td>\n",
       "      <td>1.000000</td>\n",
       "      <td>0.000000</td>\n",
       "      <td>0.000000</td>\n",
       "      <td>0.000000</td>\n",
       "      <td>0.000000</td>\n",
       "      <td>0.000000</td>\n",
       "      <td>0.000000</td>\n",
       "    </tr>\n",
       "    <tr>\n",
       "      <th>25%</th>\n",
       "      <td>3600.000000</td>\n",
       "      <td>1.000000</td>\n",
       "      <td>0.000000</td>\n",
       "      <td>1.000000</td>\n",
       "      <td>1.000000</td>\n",
       "      <td>0.000000</td>\n",
       "      <td>0.000000</td>\n",
       "      <td>0.000000</td>\n",
       "      <td>0.000000</td>\n",
       "      <td>0.750000</td>\n",
       "    </tr>\n",
       "    <tr>\n",
       "      <th>50%</th>\n",
       "      <td>4615.820057</td>\n",
       "      <td>2.000000</td>\n",
       "      <td>0.000000</td>\n",
       "      <td>2.000000</td>\n",
       "      <td>1.000000</td>\n",
       "      <td>0.000000</td>\n",
       "      <td>0.000000</td>\n",
       "      <td>0.000000</td>\n",
       "      <td>0.000000</td>\n",
       "      <td>1.000000</td>\n",
       "    </tr>\n",
       "    <tr>\n",
       "      <th>75%</th>\n",
       "      <td>6360.000000</td>\n",
       "      <td>2.000000</td>\n",
       "      <td>1.000000</td>\n",
       "      <td>2.000000</td>\n",
       "      <td>1.000000</td>\n",
       "      <td>0.000000</td>\n",
       "      <td>0.000000</td>\n",
       "      <td>1.000000</td>\n",
       "      <td>1.000000</td>\n",
       "      <td>2.000000</td>\n",
       "    </tr>\n",
       "    <tr>\n",
       "      <th>max</th>\n",
       "      <td>16200.000000</td>\n",
       "      <td>5.000000</td>\n",
       "      <td>3.000000</td>\n",
       "      <td>4.000000</td>\n",
       "      <td>1.000000</td>\n",
       "      <td>1.000000</td>\n",
       "      <td>1.000000</td>\n",
       "      <td>1.000000</td>\n",
       "      <td>3.000000</td>\n",
       "      <td>2.000000</td>\n",
       "    </tr>\n",
       "  </tbody>\n",
       "</table>\n",
       "</div>"
      ],
      "text/plain": [
       "               area  no_bedrooms  no_bathrooms  total_stories  mainroad_loc  \\\n",
       "count    528.000000   528.000000    528.000000     528.000000    528.000000   \n",
       "mean    5169.721163     1.964015      0.284091       1.803030      0.857955   \n",
       "std     2173.611257     0.739655      0.503095       0.864123      0.349428   \n",
       "min     1650.000000     0.000000      0.000000       1.000000      0.000000   \n",
       "25%     3600.000000     1.000000      0.000000       1.000000      1.000000   \n",
       "50%     4615.820057     2.000000      0.000000       2.000000      1.000000   \n",
       "75%     6360.000000     2.000000      1.000000       2.000000      1.000000   \n",
       "max    16200.000000     5.000000      3.000000       4.000000      1.000000   \n",
       "\n",
       "        guestroom    hotwater  airconditioner     parking  furnishingstatus  \n",
       "count  528.000000  528.000000      528.000000  528.000000        528.000000  \n",
       "mean     0.179924    0.045455        0.320076    0.695076          1.077652  \n",
       "std      0.384489    0.208496        0.466948    0.860152          0.756774  \n",
       "min      0.000000    0.000000        0.000000    0.000000          0.000000  \n",
       "25%      0.000000    0.000000        0.000000    0.000000          0.750000  \n",
       "50%      0.000000    0.000000        0.000000    0.000000          1.000000  \n",
       "75%      0.000000    0.000000        1.000000    1.000000          2.000000  \n",
       "max      1.000000    1.000000        1.000000    3.000000          2.000000  "
      ]
     },
     "execution_count": 104,
     "metadata": {},
     "output_type": "execute_result"
    }
   ],
   "source": [
    "Independent_MICE.describe() # using describe function to see if there is any discrepency in numerical measures "
   ]
  },
  {
   "cell_type": "markdown",
   "id": "61d00e57",
   "metadata": {},
   "source": [
    "- From overall exploration it seems that MICE and KNN both performed well\n",
    "- Hence, I will go ahead with KNN imputation"
   ]
  },
  {
   "cell_type": "code",
   "execution_count": 105,
   "id": "f3c5ef79",
   "metadata": {},
   "outputs": [
    {
     "data": {
      "text/html": [
       "<div>\n",
       "<style scoped>\n",
       "    .dataframe tbody tr th:only-of-type {\n",
       "        vertical-align: middle;\n",
       "    }\n",
       "\n",
       "    .dataframe tbody tr th {\n",
       "        vertical-align: top;\n",
       "    }\n",
       "\n",
       "    .dataframe thead th {\n",
       "        text-align: right;\n",
       "    }\n",
       "</style>\n",
       "<table border=\"1\" class=\"dataframe\">\n",
       "  <thead>\n",
       "    <tr style=\"text-align: right;\">\n",
       "      <th></th>\n",
       "      <th>area</th>\n",
       "      <th>no_bedrooms</th>\n",
       "      <th>no_bathrooms</th>\n",
       "      <th>total_stories</th>\n",
       "      <th>mainroad_loc</th>\n",
       "      <th>guestroom</th>\n",
       "      <th>hotwater</th>\n",
       "      <th>airconditioner</th>\n",
       "      <th>parking</th>\n",
       "      <th>furnishingstatus</th>\n",
       "      <th>h_price</th>\n",
       "    </tr>\n",
       "  </thead>\n",
       "  <tbody>\n",
       "    <tr>\n",
       "      <th>0</th>\n",
       "      <td>7420.000000</td>\n",
       "      <td>3.0</td>\n",
       "      <td>1.0</td>\n",
       "      <td>3.0</td>\n",
       "      <td>1.0</td>\n",
       "      <td>0.0</td>\n",
       "      <td>0.0</td>\n",
       "      <td>1.0</td>\n",
       "      <td>2.0</td>\n",
       "      <td>0.0</td>\n",
       "      <td>13300000.0</td>\n",
       "    </tr>\n",
       "    <tr>\n",
       "      <th>1</th>\n",
       "      <td>8960.000000</td>\n",
       "      <td>3.0</td>\n",
       "      <td>3.0</td>\n",
       "      <td>4.0</td>\n",
       "      <td>1.0</td>\n",
       "      <td>0.0</td>\n",
       "      <td>0.0</td>\n",
       "      <td>1.0</td>\n",
       "      <td>3.0</td>\n",
       "      <td>0.0</td>\n",
       "      <td>12250000.0</td>\n",
       "    </tr>\n",
       "    <tr>\n",
       "      <th>2</th>\n",
       "      <td>9960.000000</td>\n",
       "      <td>2.0</td>\n",
       "      <td>1.0</td>\n",
       "      <td>2.0</td>\n",
       "      <td>1.0</td>\n",
       "      <td>0.0</td>\n",
       "      <td>0.0</td>\n",
       "      <td>0.0</td>\n",
       "      <td>2.0</td>\n",
       "      <td>1.0</td>\n",
       "      <td>12250000.0</td>\n",
       "    </tr>\n",
       "    <tr>\n",
       "      <th>3</th>\n",
       "      <td>7500.000000</td>\n",
       "      <td>3.0</td>\n",
       "      <td>1.0</td>\n",
       "      <td>2.0</td>\n",
       "      <td>1.0</td>\n",
       "      <td>0.0</td>\n",
       "      <td>0.0</td>\n",
       "      <td>1.0</td>\n",
       "      <td>3.0</td>\n",
       "      <td>0.0</td>\n",
       "      <td>12215000.0</td>\n",
       "    </tr>\n",
       "    <tr>\n",
       "      <th>4</th>\n",
       "      <td>8099.945192</td>\n",
       "      <td>3.0</td>\n",
       "      <td>0.0</td>\n",
       "      <td>2.0</td>\n",
       "      <td>1.0</td>\n",
       "      <td>1.0</td>\n",
       "      <td>0.0</td>\n",
       "      <td>1.0</td>\n",
       "      <td>2.0</td>\n",
       "      <td>0.0</td>\n",
       "      <td>11410000.0</td>\n",
       "    </tr>\n",
       "    <tr>\n",
       "      <th>5</th>\n",
       "      <td>7500.000000</td>\n",
       "      <td>2.0</td>\n",
       "      <td>2.0</td>\n",
       "      <td>1.0</td>\n",
       "      <td>1.0</td>\n",
       "      <td>0.0</td>\n",
       "      <td>0.0</td>\n",
       "      <td>1.0</td>\n",
       "      <td>2.0</td>\n",
       "      <td>1.0</td>\n",
       "      <td>10850000.0</td>\n",
       "    </tr>\n",
       "    <tr>\n",
       "      <th>6</th>\n",
       "      <td>8580.000000</td>\n",
       "      <td>3.0</td>\n",
       "      <td>2.0</td>\n",
       "      <td>4.0</td>\n",
       "      <td>1.0</td>\n",
       "      <td>0.0</td>\n",
       "      <td>0.0</td>\n",
       "      <td>1.0</td>\n",
       "      <td>2.0</td>\n",
       "      <td>1.0</td>\n",
       "      <td>10150000.0</td>\n",
       "    </tr>\n",
       "    <tr>\n",
       "      <th>7</th>\n",
       "      <td>16200.000000</td>\n",
       "      <td>4.0</td>\n",
       "      <td>2.0</td>\n",
       "      <td>2.0</td>\n",
       "      <td>1.0</td>\n",
       "      <td>0.0</td>\n",
       "      <td>0.0</td>\n",
       "      <td>0.0</td>\n",
       "      <td>0.0</td>\n",
       "      <td>2.0</td>\n",
       "      <td>10150000.0</td>\n",
       "    </tr>\n",
       "    <tr>\n",
       "      <th>8</th>\n",
       "      <td>8100.000000</td>\n",
       "      <td>3.0</td>\n",
       "      <td>0.0</td>\n",
       "      <td>2.0</td>\n",
       "      <td>1.0</td>\n",
       "      <td>1.0</td>\n",
       "      <td>0.0</td>\n",
       "      <td>1.0</td>\n",
       "      <td>2.0</td>\n",
       "      <td>0.0</td>\n",
       "      <td>9870000.0</td>\n",
       "    </tr>\n",
       "    <tr>\n",
       "      <th>9</th>\n",
       "      <td>5750.000000</td>\n",
       "      <td>2.0</td>\n",
       "      <td>1.0</td>\n",
       "      <td>4.0</td>\n",
       "      <td>1.0</td>\n",
       "      <td>1.0</td>\n",
       "      <td>0.0</td>\n",
       "      <td>1.0</td>\n",
       "      <td>1.0</td>\n",
       "      <td>2.0</td>\n",
       "      <td>9800000.0</td>\n",
       "    </tr>\n",
       "  </tbody>\n",
       "</table>\n",
       "</div>"
      ],
      "text/plain": [
       "           area  no_bedrooms  no_bathrooms  total_stories  mainroad_loc  \\\n",
       "0   7420.000000          3.0           1.0            3.0           1.0   \n",
       "1   8960.000000          3.0           3.0            4.0           1.0   \n",
       "2   9960.000000          2.0           1.0            2.0           1.0   \n",
       "3   7500.000000          3.0           1.0            2.0           1.0   \n",
       "4   8099.945192          3.0           0.0            2.0           1.0   \n",
       "5   7500.000000          2.0           2.0            1.0           1.0   \n",
       "6   8580.000000          3.0           2.0            4.0           1.0   \n",
       "7  16200.000000          4.0           2.0            2.0           1.0   \n",
       "8   8100.000000          3.0           0.0            2.0           1.0   \n",
       "9   5750.000000          2.0           1.0            4.0           1.0   \n",
       "\n",
       "   guestroom  hotwater  airconditioner  parking  furnishingstatus     h_price  \n",
       "0        0.0       0.0             1.0      2.0               0.0  13300000.0  \n",
       "1        0.0       0.0             1.0      3.0               0.0  12250000.0  \n",
       "2        0.0       0.0             0.0      2.0               1.0  12250000.0  \n",
       "3        0.0       0.0             1.0      3.0               0.0  12215000.0  \n",
       "4        1.0       0.0             1.0      2.0               0.0  11410000.0  \n",
       "5        0.0       0.0             1.0      2.0               1.0  10850000.0  \n",
       "6        0.0       0.0             1.0      2.0               1.0  10150000.0  \n",
       "7        0.0       0.0             0.0      0.0               2.0  10150000.0  \n",
       "8        1.0       0.0             1.0      2.0               0.0   9870000.0  \n",
       "9        1.0       0.0             1.0      1.0               2.0   9800000.0  "
      ]
     },
     "execution_count": 105,
     "metadata": {},
     "output_type": "execute_result"
    }
   ],
   "source": [
    "HP_miss = pd.concat([Independent_knn, Dependent], axis=1) # concatenating independent and dependent variable\n",
    "HP_miss.head(10)"
   ]
  },
  {
   "cell_type": "markdown",
   "id": "70858574",
   "metadata": {},
   "source": [
    "### Dealing with outliers"
   ]
  },
  {
   "cell_type": "code",
   "execution_count": 106,
   "id": "e2f18f7d",
   "metadata": {},
   "outputs": [
    {
     "name": "stdout",
     "output_type": "stream",
     "text": [
      "5740000.0 3465000.0\n",
      "2275000.0\n",
      "9152500.0\n",
      "52500.0\n"
     ]
    }
   ],
   "source": [
    "# Here I am using IQR to remove outliers. I have already checked Z score and did not work well\n",
    "# IQR for price column\n",
    "Q1 = HP_miss['h_price'].quantile(0.25)\n",
    "Q3 = HP_miss['h_price'].quantile(0.75)\n",
    "print(Q3, Q1)\n",
    "IQR = Q3 - Q1\n",
    "print(IQR)\n",
    "upper_bound = Q3 + 1.5 * IQR\n",
    "lower_bound = Q1 - 1.5 * IQR\n",
    "print(upper_bound)\n",
    "print(lower_bound)"
   ]
  },
  {
   "cell_type": "code",
   "execution_count": 107,
   "id": "d717f9e1",
   "metadata": {},
   "outputs": [
    {
     "name": "stderr",
     "output_type": "stream",
     "text": [
      "C:\\Users\\prate\\AppData\\Local\\Temp\\ipykernel_19052\\1866707801.py:2: UserWarning: Boolean Series key will be reindexed to match DataFrame index.\n",
      "  HP_miss_out = HP_miss_out[HP_miss.h_price > lower_bound]\n"
     ]
    },
    {
     "data": {
      "text/plain": [
       "(513, 11)"
      ]
     },
     "execution_count": 107,
     "metadata": {},
     "output_type": "execute_result"
    }
   ],
   "source": [
    "HP_miss_out = HP_miss[HP_miss.h_price < upper_bound]\n",
    "HP_miss_out = HP_miss_out[HP_miss.h_price > lower_bound]\n",
    "HP_miss_out.shape"
   ]
  },
  {
   "cell_type": "code",
   "execution_count": 108,
   "id": "17bc0e24",
   "metadata": {},
   "outputs": [
    {
     "data": {
      "text/plain": [
       "<AxesSubplot: xlabel='h_price', ylabel='Count'>"
      ]
     },
     "execution_count": 108,
     "metadata": {},
     "output_type": "execute_result"
    },
    {
     "data": {
      "image/png": "[encoded data removed]",
      "text/plain": [
       "<Figure size 640x480 with 1 Axes>"
      ]
     },
     "metadata": {},
     "output_type": "display_data"
    }
   ],
   "source": [
    "sns.histplot(HP_miss_out['h_price'])"
   ]
  },
  {
   "cell_type": "code",
   "execution_count": 109,
   "id": "b09062d9",
   "metadata": {},
   "outputs": [
    {
     "name": "stdout",
     "output_type": "stream",
     "text": [
      "6321.0 3584.0\n",
      "2737.0\n",
      "10426.5\n",
      "-521.5\n"
     ]
    }
   ],
   "source": [
    "# Here I am using IQR to remove outliers. I have already checked Z score and did not work well\n",
    "# IQR for price column\n",
    "Q1 = HP_miss_out['area'].quantile(0.25)\n",
    "Q3 = HP_miss_out['area'].quantile(0.75)\n",
    "print(Q3, Q1)\n",
    "IQR = Q3 - Q1\n",
    "print(IQR)\n",
    "upper_bound = Q3 + 1.5 * IQR\n",
    "lower_bound = Q1 - 1.5 * IQR\n",
    "print(upper_bound)\n",
    "print(lower_bound)"
   ]
  },
  {
   "cell_type": "code",
   "execution_count": 110,
   "id": "6926b3bd",
   "metadata": {},
   "outputs": [
    {
     "name": "stderr",
     "output_type": "stream",
     "text": [
      "C:\\Users\\prate\\AppData\\Local\\Temp\\ipykernel_19052\\3980939757.py:1: UserWarning: Boolean Series key will be reindexed to match DataFrame index.\n",
      "  HP_miss_out = HP_miss_out[HP_miss.area < upper_bound]\n",
      "C:\\Users\\prate\\AppData\\Local\\Temp\\ipykernel_19052\\3980939757.py:2: UserWarning: Boolean Series key will be reindexed to match DataFrame index.\n",
      "  HP_miss_out = HP_miss_out[HP_miss.area > lower_bound]\n"
     ]
    },
    {
     "data": {
      "text/plain": [
       "(500, 11)"
      ]
     },
     "execution_count": 110,
     "metadata": {},
     "output_type": "execute_result"
    }
   ],
   "source": [
    "HP_miss_out = HP_miss_out[HP_miss.area < upper_bound]\n",
    "HP_miss_out = HP_miss_out[HP_miss.area > lower_bound]\n",
    "HP_miss_out.shape"
   ]
  },
  {
   "cell_type": "code",
   "execution_count": 111,
   "id": "a353d9c3",
   "metadata": {},
   "outputs": [
    {
     "data": {
      "text/plain": [
       "<AxesSubplot: xlabel='area', ylabel='Count'>"
      ]
     },
     "execution_count": 111,
     "metadata": {},
     "output_type": "execute_result"
    },
    {
     "data": {
      "image/png": "[encoded data removed]",
      "text/plain": [
       "<Figure size 640x480 with 1 Axes>"
      ]
     },
     "metadata": {},
     "output_type": "display_data"
    }
   ],
   "source": [
    "sns.histplot(HP_miss_out['area']) # examining distribution of area column "
   ]
  },
  {
   "cell_type": "markdown",
   "id": "11eb2a5a",
   "metadata": {},
   "source": [
    "- Even after removing outliers price and area columns are skewed. \n",
    "- For linear regression, errors should be normally distributed. However, as per central limit theorem if sample size is more than 30 we are good to go. "
   ]
  },
  {
   "cell_type": "code",
   "execution_count": 112,
   "id": "0bd7ff9f",
   "metadata": {},
   "outputs": [
    {
     "data": {
      "text/plain": [
       "<AxesSubplot: xlabel='h_price', ylabel='area'>"
      ]
     },
     "execution_count": 112,
     "metadata": {},
     "output_type": "execute_result"
    },
    {
     "data": {
      "image/png": "[encoded data removed]",
      "text/plain": [
       "<Figure size 640x480 with 1 Axes>"
      ]
     },
     "metadata": {},
     "output_type": "display_data"
    }
   ],
   "source": [
    "# scatter plot between area and price\n",
    "sns.scatterplot(x=HP_miss_out.h_price,y=HP_miss_out.area) "
   ]
  },
  {
   "cell_type": "code",
   "execution_count": 113,
   "id": "87a74ef2",
   "metadata": {},
   "outputs": [
    {
     "name": "stdout",
     "output_type": "stream",
     "text": [
      "                      area  no_bedrooms  no_bathrooms  total_stories  \\\n",
      "area              1.000000     0.148777      0.195659       0.042915   \n",
      "no_bedrooms       0.148777     1.000000      0.360151       0.510301   \n",
      "no_bathrooms      0.195659     0.360151      1.000000       0.292542   \n",
      "total_stories     0.042915     0.510301      0.292542       1.000000   \n",
      "mainroad_loc      0.328205    -0.025744      0.027910       0.084053   \n",
      "guestroom         0.251026     0.089055      0.156024       0.018469   \n",
      "hotwater         -0.033229     0.014585      0.040439       0.051932   \n",
      "airconditioner    0.295852     0.173915      0.209135       0.234156   \n",
      "parking           0.334091     0.102540      0.131408      -0.008298   \n",
      "furnishingstatus -0.155728    -0.133968     -0.161125      -0.101542   \n",
      "h_price           0.572912     0.369470      0.453527       0.354870   \n",
      "\n",
      "                  mainroad_loc  guestroom  hotwater  airconditioner   parking  \\\n",
      "area                  0.328205   0.251026 -0.033229        0.295852  0.334091   \n",
      "no_bedrooms          -0.025744   0.089055  0.014585        0.173915  0.102540   \n",
      "no_bathrooms          0.027910   0.156024  0.040439        0.209135  0.131408   \n",
      "total_stories         0.084053   0.018469  0.051932        0.234156 -0.008298   \n",
      "mainroad_loc          1.000000   0.094764 -0.023735        0.101551  0.183071   \n",
      "guestroom             0.094764   1.000000 -0.020243        0.133934  0.062764   \n",
      "hotwater             -0.023735  -0.020243  1.000000       -0.119481  0.056666   \n",
      "airconditioner        0.101551   0.133934 -0.119481        1.000000  0.139803   \n",
      "parking               0.183071   0.062764  0.056666        0.139803  1.000000   \n",
      "furnishingstatus     -0.165430  -0.131681 -0.032067       -0.128457 -0.162800   \n",
      "h_price               0.331853   0.322570  0.051053        0.467519  0.324563   \n",
      "\n",
      "                  furnishingstatus   h_price  \n",
      "area                     -0.155728  0.572912  \n",
      "no_bedrooms              -0.133968  0.369470  \n",
      "no_bathrooms             -0.161125  0.453527  \n",
      "total_stories            -0.101542  0.354870  \n",
      "mainroad_loc             -0.165430  0.331853  \n",
      "guestroom                -0.131681  0.322570  \n",
      "hotwater                 -0.032067  0.051053  \n",
      "airconditioner           -0.128457  0.467519  \n",
      "parking                  -0.162800  0.324563  \n",
      "furnishingstatus          1.000000 -0.354060  \n",
      "h_price                  -0.354060  1.000000  \n"
     ]
    }
   ],
   "source": [
    "data = pd.DataFrame(HP_miss_out) # checking correlation only between price and area\n",
    "print(data.corr(method = 'spearman'))"
   ]
  },
  {
   "cell_type": "markdown",
   "id": "c4e49472",
   "metadata": {},
   "source": [
    "- Price and area not very linear. There are moderate correlation."
   ]
  },
  {
   "cell_type": "code",
   "execution_count": 114,
   "id": "0751559e",
   "metadata": {},
   "outputs": [
    {
     "data": {
      "text/html": [
       "<div>\n",
       "<style scoped>\n",
       "    .dataframe tbody tr th:only-of-type {\n",
       "        vertical-align: middle;\n",
       "    }\n",
       "\n",
       "    .dataframe tbody tr th {\n",
       "        vertical-align: top;\n",
       "    }\n",
       "\n",
       "    .dataframe thead th {\n",
       "        text-align: right;\n",
       "    }\n",
       "</style>\n",
       "<table border=\"1\" class=\"dataframe\">\n",
       "  <thead>\n",
       "    <tr style=\"text-align: right;\">\n",
       "      <th></th>\n",
       "      <th>area</th>\n",
       "      <th>no_bedrooms</th>\n",
       "      <th>no_bathrooms</th>\n",
       "      <th>total_stories</th>\n",
       "      <th>mainroad_loc</th>\n",
       "      <th>guestroom</th>\n",
       "      <th>hotwater</th>\n",
       "      <th>airconditioner</th>\n",
       "      <th>parking</th>\n",
       "      <th>furnishingstatus</th>\n",
       "      <th>h_price</th>\n",
       "    </tr>\n",
       "  </thead>\n",
       "  <tbody>\n",
       "    <tr>\n",
       "      <th>15</th>\n",
       "      <td>6000.0</td>\n",
       "      <td>3.0</td>\n",
       "      <td>0.0</td>\n",
       "      <td>2.0</td>\n",
       "      <td>1.0</td>\n",
       "      <td>0.0</td>\n",
       "      <td>0.0</td>\n",
       "      <td>0.0</td>\n",
       "      <td>2.0</td>\n",
       "      <td>1.0</td>\n",
       "      <td>9100000.0</td>\n",
       "    </tr>\n",
       "    <tr>\n",
       "      <th>16</th>\n",
       "      <td>6600.0</td>\n",
       "      <td>3.0</td>\n",
       "      <td>1.0</td>\n",
       "      <td>2.0</td>\n",
       "      <td>1.0</td>\n",
       "      <td>1.0</td>\n",
       "      <td>0.0</td>\n",
       "      <td>1.0</td>\n",
       "      <td>1.0</td>\n",
       "      <td>2.0</td>\n",
       "      <td>9100000.0</td>\n",
       "    </tr>\n",
       "    <tr>\n",
       "      <th>17</th>\n",
       "      <td>8500.0</td>\n",
       "      <td>2.0</td>\n",
       "      <td>1.0</td>\n",
       "      <td>4.0</td>\n",
       "      <td>1.0</td>\n",
       "      <td>0.0</td>\n",
       "      <td>0.0</td>\n",
       "      <td>1.0</td>\n",
       "      <td>2.0</td>\n",
       "      <td>0.0</td>\n",
       "      <td>8960000.0</td>\n",
       "    </tr>\n",
       "    <tr>\n",
       "      <th>18</th>\n",
       "      <td>4600.0</td>\n",
       "      <td>2.0</td>\n",
       "      <td>1.0</td>\n",
       "      <td>2.0</td>\n",
       "      <td>1.0</td>\n",
       "      <td>1.0</td>\n",
       "      <td>0.0</td>\n",
       "      <td>1.0</td>\n",
       "      <td>2.0</td>\n",
       "      <td>0.0</td>\n",
       "      <td>8890000.0</td>\n",
       "    </tr>\n",
       "    <tr>\n",
       "      <th>19</th>\n",
       "      <td>6420.0</td>\n",
       "      <td>2.0</td>\n",
       "      <td>1.0</td>\n",
       "      <td>2.0</td>\n",
       "      <td>1.0</td>\n",
       "      <td>0.0</td>\n",
       "      <td>0.0</td>\n",
       "      <td>1.0</td>\n",
       "      <td>1.0</td>\n",
       "      <td>1.0</td>\n",
       "      <td>8855000.0</td>\n",
       "    </tr>\n",
       "  </tbody>\n",
       "</table>\n",
       "</div>"
      ],
      "text/plain": [
       "      area  no_bedrooms  no_bathrooms  total_stories  mainroad_loc  guestroom  \\\n",
       "15  6000.0          3.0           0.0            2.0           1.0        0.0   \n",
       "16  6600.0          3.0           1.0            2.0           1.0        1.0   \n",
       "17  8500.0          2.0           1.0            4.0           1.0        0.0   \n",
       "18  4600.0          2.0           1.0            2.0           1.0        1.0   \n",
       "19  6420.0          2.0           1.0            2.0           1.0        0.0   \n",
       "\n",
       "    hotwater  airconditioner  parking  furnishingstatus    h_price  \n",
       "15       0.0             0.0      2.0               1.0  9100000.0  \n",
       "16       0.0             1.0      1.0               2.0  9100000.0  \n",
       "17       0.0             1.0      2.0               0.0  8960000.0  \n",
       "18       0.0             1.0      2.0               0.0  8890000.0  \n",
       "19       0.0             1.0      1.0               1.0  8855000.0  "
      ]
     },
     "execution_count": 114,
     "metadata": {},
     "output_type": "execute_result"
    }
   ],
   "source": [
    "HP_miss_out.head()"
   ]
  },
  {
   "cell_type": "code",
   "execution_count": 115,
   "id": "abfd2a99",
   "metadata": {},
   "outputs": [
    {
     "name": "stdout",
     "output_type": "stream",
     "text": [
      "            feature       VIF\n",
      "0              area  9.662710\n",
      "1       no_bedrooms  8.371096\n",
      "2      no_bathrooms  1.595123\n",
      "3     total_stories  7.045119\n",
      "4      mainroad_loc  6.496517\n",
      "5         guestroom  1.329238\n",
      "6          hotwater  1.066743\n",
      "7    airconditioner  1.746203\n",
      "8           parking  1.913895\n",
      "9  furnishingstatus  2.645623\n"
     ]
    }
   ],
   "source": [
    "# Examine multicollinearity using VIF\n",
    "from statsmodels.stats.outliers_influence import variance_inflation_factor\n",
    "   \n",
    "# the independent variables set\n",
    "X_vif = HP_miss_out.drop(['h_price'], axis=1)\n",
    "  \n",
    "# VIF dataframe\n",
    "vif_data = pd.DataFrame()\n",
    "vif_data[\"feature\"] = X_vif.columns\n",
    "  \n",
    "# calculating VIF for each feature\n",
    "vif_data[\"VIF\"] = [variance_inflation_factor(X_vif.values, i)\n",
    "                          for i in range(len(X_vif.columns))]\n",
    "  \n",
    "print(vif_data)"
   ]
  },
  {
   "cell_type": "markdown",
   "id": "b19cf768",
   "metadata": {},
   "source": [
    "- It seems that area, no_bedrooms, total_stories, and mainroad_loc are highly correlated"
   ]
  },
  {
   "cell_type": "code",
   "execution_count": 116,
   "id": "3e4ed00f",
   "metadata": {},
   "outputs": [
    {
     "name": "stdout",
     "output_type": "stream",
     "text": [
      "            feature       VIF\n",
      "0              area  4.740717\n",
      "1      no_bathrooms  1.406234\n",
      "2         guestroom  1.322778\n",
      "3          hotwater  1.054821\n",
      "4    airconditioner  1.639921\n",
      "5           parking  1.888405\n",
      "6  furnishingstatus  2.339361\n"
     ]
    }
   ],
   "source": [
    "X_vif = HP_miss_out.drop(['h_price', 'no_bedrooms', 'total_stories', 'mainroad_loc'], axis=1)\n",
    "  \n",
    "# VIF dataframe\n",
    "vif_data = pd.DataFrame()\n",
    "vif_data[\"feature\"] = X_vif.columns\n",
    "  \n",
    "# calculating VIF for each feature\n",
    "vif_data[\"VIF\"] = [variance_inflation_factor(X_vif.values, i)\n",
    "                          for i in range(len(X_vif.columns))]\n",
    "  \n",
    "print(vif_data)"
   ]
  },
  {
   "cell_type": "markdown",
   "id": "d7947751",
   "metadata": {},
   "source": [
    "- after removing no of bedrooms, total stories and main road location correlation values look better now"
   ]
  },
  {
   "cell_type": "markdown",
   "id": "904f055c",
   "metadata": {},
   "source": [
    "### Feature selection using selectK best method"
   ]
  },
  {
   "cell_type": "code",
   "execution_count": 117,
   "id": "792b6790",
   "metadata": {},
   "outputs": [],
   "source": [
    "X = HP_miss_out.drop(['h_price'], axis=1)\n",
    "y = HP_miss_out['h_price']"
   ]
  },
  {
   "cell_type": "code",
   "execution_count": 118,
   "id": "b10a35b5",
   "metadata": {},
   "outputs": [
    {
     "name": "stdout",
     "output_type": "stream",
     "text": [
      "              Specs          Score\n",
      "0              area  172705.025438\n",
      "8           parking     252.638749\n",
      "2      no_bathrooms     227.441446\n",
      "5         guestroom     224.755810\n",
      "6          hotwater     200.336312\n",
      "7    airconditioner     185.834255\n",
      "9  furnishingstatus     129.899002\n",
      "3     total_stories     118.837686\n",
      "1       no_bedrooms      68.142844\n",
      "4      mainroad_loc      34.609889\n"
     ]
    }
   ],
   "source": [
    "# apply SelectKBest class to extract top 10 best features\n",
    "from sklearn.feature_selection import SelectKBest\n",
    "from sklearn.feature_selection import chi2\n",
    "\n",
    "bestfeatures = SelectKBest(score_func=chi2, k=10)\n",
    "fit = bestfeatures.fit(X,y)\n",
    "dfscores = pd.DataFrame(fit.scores_)\n",
    "dfcolumns = pd.DataFrame(X.columns)\n",
    "#concat two dataframes for better visualization \n",
    "featureScores = pd.concat([dfcolumns,dfscores],axis=1)\n",
    "featureScores.columns = ['Specs','Score']  #naming the dataframe columns\n",
    "print(featureScores.nlargest(10,'Score'))  #print 10 best features"
   ]
  },
  {
   "cell_type": "markdown",
   "id": "931eb2bc",
   "metadata": {},
   "source": [
    "- It seems that number of bedrooms and main road location are not good predictor variable. However, total stories is also highly correlated with area."
   ]
  },
  {
   "cell_type": "code",
   "execution_count": 119,
   "id": "b7d16570",
   "metadata": {},
   "outputs": [],
   "source": [
    "# Linear regression\n",
    "X_lin = HP_miss_out.drop(['h_price', 'no_bedrooms', 'total_stories', 'mainroad_loc'], axis=1)\n",
    "y_lin = HP_miss_out['h_price']"
   ]
  },
  {
   "cell_type": "code",
   "execution_count": 120,
   "id": "6f2e056d",
   "metadata": {},
   "outputs": [
    {
     "data": {
      "text/plain": [
       "(500, 7)"
      ]
     },
     "execution_count": 120,
     "metadata": {},
     "output_type": "execute_result"
    }
   ],
   "source": [
    "X_lin.shape"
   ]
  },
  {
   "cell_type": "code",
   "execution_count": 121,
   "id": "02e4bbc9",
   "metadata": {},
   "outputs": [],
   "source": [
    "# splitting the dataset\n",
    "from sklearn.model_selection import train_test_split\n",
    "X_train, X_test, y_train, y_test = train_test_split(X_lin, y_lin, test_size=0.25, random_state=101)"
   ]
  },
  {
   "cell_type": "code",
   "execution_count": 122,
   "id": "1322af52",
   "metadata": {},
   "outputs": [
    {
     "data": {
      "text/plain": [
       "array([[-0.31060248, -0.56034738, -0.47907014, ..., -0.66506217,\n",
       "         0.42552676,  1.14918462],\n",
       "       [-1.06247258,  1.60594404,  2.08737703, ..., -0.66506217,\n",
       "        -0.75649202, -1.49464503],\n",
       "       [-0.57308967,  1.60594404, -0.47907014, ..., -0.66506217,\n",
       "         1.60754555, -0.1727302 ],\n",
       "       ...,\n",
       "       [-0.77329177,  1.60594404, -0.47907014, ..., -0.66506217,\n",
       "        -0.75649202, -0.1727302 ],\n",
       "       [ 0.53437748,  1.60594404,  2.08737703, ...,  1.50361882,\n",
       "        -0.75649202, -0.1727302 ],\n",
       "       [-0.17268548, -0.56034738, -0.47907014, ..., -0.66506217,\n",
       "        -0.75649202, -0.1727302 ]])"
      ]
     },
     "execution_count": 122,
     "metadata": {},
     "output_type": "execute_result"
    }
   ],
   "source": [
    "# performing transformation of data\n",
    "from sklearn.preprocessing import StandardScaler\n",
    "sc = StandardScaler()\n",
    "X_train=sc.fit_transform(X_train)\n",
    "X_train"
   ]
  },
  {
   "cell_type": "code",
   "execution_count": 123,
   "id": "a50b5743",
   "metadata": {},
   "outputs": [
    {
     "data": {
      "text/plain": [
       "array([[ 1.07301645, -0.56034738,  2.08737703, -0.23102118,  1.50361882,\n",
       "         0.42552676, -1.49464503],\n",
       "       [ 1.35663608, -0.56034738, -0.47907014, -0.23102118, -0.66506217,\n",
       "         0.42552676, -0.1727302 ],\n",
       "       [ 0.51022611, -0.56034738,  2.08737703, -0.23102118, -0.66506217,\n",
       "        -0.75649202, -0.1727302 ],\n",
       "       [ 0.83944734,  1.60594404, -0.47907014, -0.23102118,  1.50361882,\n",
       "         0.42552676, -0.1727302 ],\n",
       "       [ 0.66148992, -0.56034738, -0.47907014, -0.23102118,  1.50361882,\n",
       "        -0.75649202, -0.1727302 ],\n",
       "       [-0.70099657, -0.56034738, -0.47907014, -0.23102118, -0.66506217,\n",
       "        -0.75649202,  1.14918462],\n",
       "       [-0.33952056,  1.60594404, -0.47907014, -0.23102118, -0.66506217,\n",
       "         0.42552676,  1.14918462],\n",
       "       [-0.50635564, -0.56034738, -0.47907014, -0.23102118, -0.66506217,\n",
       "         0.42552676, -1.49464503],\n",
       "       [ 0.32781976,  1.60594404,  2.08737703, -0.23102118, -0.66506217,\n",
       "         1.60754555, -1.49464503],\n",
       "       [-0.22829718, -0.56034738, -0.47907014, -0.23102118,  1.50361882,\n",
       "        -0.75649202,  1.14918462],\n",
       "       [-1.39614274, -0.56034738, -0.47907014, -0.23102118, -0.66506217,\n",
       "        -0.75649202,  1.14918462],\n",
       "       [-0.78441411, -0.56034738,  2.08737703, -0.23102118, -0.66506217,\n",
       "        -0.75649202,  1.14918462],\n",
       "       [ 1.1731175 , -0.56034738, -0.47907014, -0.23102118,  1.50361882,\n",
       "         1.60754555, -0.1727302 ],\n",
       "       [ 1.39778874, -0.56034738, -0.47907014, -0.23102118, -0.66506217,\n",
       "        -0.75649202,  1.14918462],\n",
       "       [-0.52860032, -0.56034738, -0.47907014, -0.23102118, -0.66506217,\n",
       "         1.60754555, -0.1727302 ],\n",
       "       [ 0.60587822, -0.56034738, -0.47907014, -0.23102118,  1.50361882,\n",
       "         0.42552676,  1.14918462],\n",
       "       [-1.34024339, -0.56034738, -0.47907014, -0.23102118, -0.66506217,\n",
       "        -0.75649202, -1.49464503],\n",
       "       [-1.67142062, -0.56034738, -0.47907014, -0.23102118, -0.66506217,\n",
       "        -0.75649202, -0.1727302 ],\n",
       "       [ 1.85714132, -0.56034738, -0.47907014, -0.23102118, -0.66506217,\n",
       "         1.60754555, -1.49464503],\n",
       "       [ 0.52246068, -0.56034738, -0.47907014, -0.23102118, -0.66506217,\n",
       "         0.42552676,  1.14918462],\n",
       "       [ 2.20471441, -0.56034738, -0.47907014, -0.23102118, -0.66506217,\n",
       "         0.42552676, -0.1727302 ],\n",
       "       [ 0.24996339, -0.56034738, -0.47907014, -0.23102118, -0.66506217,\n",
       "         1.60754555,  1.14918462],\n",
       "       [-0.80665879, -0.56034738, -0.47907014, -0.23102118,  1.50361882,\n",
       "        -0.75649202, -0.1727302 ],\n",
       "       [-0.8400258 , -0.56034738, -0.47907014, -0.23102118, -0.66506217,\n",
       "         1.60754555, -0.1727302 ],\n",
       "       [-0.28390887, -0.56034738, -0.47907014, -0.23102118, -0.66506217,\n",
       "         0.42552676, -0.1727302 ],\n",
       "       [-0.08926794, -0.56034738, -0.47907014, -0.23102118, -0.66506217,\n",
       "        -0.75649202,  1.14918462],\n",
       "       [-0.71211891,  3.77223546,  2.08737703, -0.23102118, -0.66506217,\n",
       "        -0.75649202,  1.14918462],\n",
       "       [ 1.12306697, -0.56034738, -0.47907014, -0.23102118, -0.66506217,\n",
       "         0.42552676, -1.49464503],\n",
       "       [ 0.97847657, -0.56034738, -0.47907014, -0.23102118, -0.66506217,\n",
       "        -0.75649202,  1.14918462],\n",
       "       [-0.96237153, -0.56034738, -0.47907014, -0.23102118, -0.66506217,\n",
       "        -0.75649202, -0.1727302 ],\n",
       "       [ 1.16199516,  1.60594404, -0.47907014, -0.23102118,  1.50361882,\n",
       "         1.60754555, -1.49464503],\n",
       "       [-1.43785151, -0.56034738, -0.47907014, -0.23102118, -0.66506217,\n",
       "        -0.75649202, -0.1727302 ],\n",
       "       [-0.56196734, -0.56034738, -0.47907014, -0.23102118, -0.66506217,\n",
       "        -0.75649202,  1.14918462],\n",
       "       [-0.22273601,  1.60594404, -0.47907014, -0.23102118, -0.66506217,\n",
       "        -0.75649202, -0.1727302 ],\n",
       "       [ 0.04698071,  1.60594404, -0.47907014, -0.23102118, -0.66506217,\n",
       "        -0.75649202, -0.1727302 ],\n",
       "       [ 0.04531236,  1.60594404, -0.47907014, -0.23102118, -0.66506217,\n",
       "         1.60754555,  1.14918462],\n",
       "       [ 0.93954838, -0.56034738, -0.47907014, -0.23102118,  1.50361882,\n",
       "         2.78956433, -1.49464503],\n",
       "       [-0.50635564, -0.56034738, -0.47907014, -0.23102118, -0.66506217,\n",
       "        -0.75649202,  1.14918462],\n",
       "       [-0.96237153, -0.56034738, -0.47907014, -0.23102118, -0.66506217,\n",
       "        -0.75649202,  1.14918462],\n",
       "       [-0.64538488, -0.56034738,  2.08737703, -0.23102118, -0.66506217,\n",
       "        -0.75649202, -0.1727302 ],\n",
       "       [-0.90119866, -0.56034738, -0.47907014,  4.32860741, -0.66506217,\n",
       "         0.42552676, -1.49464503],\n",
       "       [-0.6954354 , -0.56034738, -0.47907014, -0.23102118, -0.66506217,\n",
       "        -0.75649202,  1.14918462],\n",
       "       [-0.32839822, -0.56034738, -0.47907014, -0.23102118, -0.66506217,\n",
       "         0.42552676,  1.14918462],\n",
       "       [ 2.61902152, -0.56034738, -0.47907014, -0.23102118, -0.66506217,\n",
       "         1.60754555, -1.49464503],\n",
       "       [-0.97905504,  1.60594404, -0.47907014, -0.23102118, -0.66506217,\n",
       "        -0.75649202, -0.1727302 ],\n",
       "       [ 1.25097387, -0.56034738, -0.47907014, -0.23102118, -0.66506217,\n",
       "         1.60754555,  1.14918462],\n",
       "       [-1.12920661, -0.56034738, -0.47907014, -0.23102118, -0.66506217,\n",
       "        -0.75649202,  1.14918462],\n",
       "       [-0.62870137, -0.56034738,  2.08737703, -0.23102118, -0.66506217,\n",
       "        -0.75649202, -0.1727302 ],\n",
       "       [-0.22829718, -0.56034738, -0.47907014, -0.23102118,  1.50361882,\n",
       "        -0.75649202, -0.1727302 ],\n",
       "       [ 2.97994141, -0.56034738, -0.47907014, -0.23102118, -0.66506217,\n",
       "         0.42552676, -0.1727302 ],\n",
       "       [-0.45352453, -0.56034738, -0.47907014, -0.23102118, -0.66506217,\n",
       "         1.60754555, -0.1727302 ],\n",
       "       [ 0.72266278, -0.56034738,  2.08737703, -0.23102118,  1.50361882,\n",
       "        -0.75649202, -1.49464503],\n",
       "       [ 0.80608032, -0.56034738, -0.47907014, -0.23102118,  1.50361882,\n",
       "         0.42552676, -1.49464503],\n",
       "       [ 1.99617056,  1.60594404, -0.47907014, -0.23102118,  1.50361882,\n",
       "         1.60754555, -1.49464503],\n",
       "       [-0.95959094, -0.56034738, -0.47907014, -0.23102118, -0.66506217,\n",
       "         1.60754555,  1.14918462],\n",
       "       [-1.06247258, -0.56034738, -0.47907014, -0.23102118, -0.66506217,\n",
       "        -0.75649202, -0.1727302 ],\n",
       "       [ 0.74713193,  1.60594404, -0.47907014, -0.23102118, -0.66506217,\n",
       "         0.42552676, -0.1727302 ],\n",
       "       [-0.77885294, -0.56034738, -0.47907014, -0.23102118, -0.66506217,\n",
       "        -0.75649202, -0.1727302 ],\n",
       "       [ 0.78439176, -0.56034738, -0.47907014, -0.23102118,  1.50361882,\n",
       "         0.42552676, -1.49464503],\n",
       "       [-0.43781457, -0.56034738, -0.47907014, -0.23102118,  1.50361882,\n",
       "        -0.75649202,  1.14918462],\n",
       "       [-0.82890346,  1.60594404, -0.47907014, -0.23102118, -0.66506217,\n",
       "        -0.75649202, -0.1727302 ],\n",
       "       [ 0.42792081, -0.56034738,  2.08737703, -0.23102118,  1.50361882,\n",
       "         0.42552676, -0.1727302 ],\n",
       "       [ 0.45016548, -0.56034738, -0.47907014, -0.23102118,  1.50361882,\n",
       "        -0.75649202,  1.14918462],\n",
       "       [ 0.02751661, -0.56034738, -0.47907014, -0.23102118,  1.50361882,\n",
       "        -0.75649202,  1.14918462],\n",
       "       [ 0.40567613, -0.56034738, -0.47907014, -0.23102118, -0.66506217,\n",
       "        -0.75649202, -0.1727302 ],\n",
       "       [ 0.90618137,  1.60594404, -0.47907014, -0.23102118,  1.50361882,\n",
       "        -0.75649202, -0.1727302 ],\n",
       "       [-0.71211891, -0.56034738, -0.47907014, -0.23102118, -0.66506217,\n",
       "         1.60754555, -0.1727302 ],\n",
       "       [-0.50635564, -0.56034738, -0.47907014, -0.23102118, -0.66506217,\n",
       "         1.60754555, -1.49464503],\n",
       "       [ 0.9729154 ,  1.60594404,  2.08737703, -0.23102118, -0.66506217,\n",
       "         0.42552676, -0.1727302 ],\n",
       "       [-0.36176524, -0.56034738, -0.47907014, -0.23102118,  1.50361882,\n",
       "        -0.75649202, -1.49464503],\n",
       "       [ 1.70698975, -0.56034738, -0.47907014, -0.23102118, -0.66506217,\n",
       "         1.60754555, -0.1727302 ],\n",
       "       [-1.07915608, -0.56034738, -0.47907014, -0.23102118, -0.66506217,\n",
       "        -0.75649202, -0.1727302 ],\n",
       "       [-1.39614274, -0.56034738, -0.47907014, -0.23102118, -0.66506217,\n",
       "        -0.75649202, -0.1727302 ],\n",
       "       [-1.53795255, -0.56034738, -0.47907014, -0.23102118, -0.66506217,\n",
       "         0.42552676,  1.14918462],\n",
       "       [ 0.49465484, -0.56034738, -0.47907014,  4.32860741, -0.66506217,\n",
       "         1.60754555, -0.1727302 ],\n",
       "       [-1.06247258, -0.56034738, -0.47907014, -0.23102118, -0.66506217,\n",
       "        -0.75649202,  1.14918462],\n",
       "       [ 0.60587822, -0.56034738, -0.47907014, -0.23102118,  1.50361882,\n",
       "         0.42552676, -1.49464503],\n",
       "       [-1.16646644, -0.56034738, -0.47907014, -0.23102118, -0.66506217,\n",
       "        -0.75649202, -1.49464503],\n",
       "       [ 0.53914419, -0.56034738, -0.47907014, -0.23102118, -0.66506217,\n",
       "         0.42552676,  1.14918462],\n",
       "       [ 0.91174254, -0.56034738, -0.47907014, -0.23102118,  1.50361882,\n",
       "        -0.75649202, -1.49464503],\n",
       "       [-1.27935818,  3.77223546, -0.47907014, -0.23102118, -0.66506217,\n",
       "        -0.75649202, -0.1727302 ],\n",
       "       [-0.68431306,  1.60594404, -0.47907014, -0.23102118, -0.66506217,\n",
       "        -0.75649202, -0.1727302 ],\n",
       "       [-0.0614621 , -0.56034738, -0.47907014, -0.23102118,  1.50361882,\n",
       "        -0.75649202,  1.14918462],\n",
       "       [-0.19493016,  1.60594404,  2.08737703, -0.23102118,  1.50361882,\n",
       "         0.42552676, -1.49464503],\n",
       "       [-1.22930766, -0.56034738, -0.47907014, -0.23102118, -0.66506217,\n",
       "        -0.75649202, -1.49464503],\n",
       "       [ 0.80608032, -0.56034738, -0.47907014, -0.23102118, -0.66506217,\n",
       "        -0.75649202, -0.1727302 ],\n",
       "       [-0.82890346,  1.60594404, -0.47907014, -0.23102118,  1.50361882,\n",
       "         1.60754555, -0.1727302 ],\n",
       "       [ 0.60587822,  1.60594404,  2.08737703, -0.23102118,  1.50361882,\n",
       "         0.42552676, -0.1727302 ],\n",
       "       [ 1.77372378, -0.56034738, -0.47907014, -0.23102118,  1.50361882,\n",
       "         1.60754555, -0.1727302 ],\n",
       "       [-0.37288758, -0.56034738, -0.47907014, -0.23102118,  1.50361882,\n",
       "        -0.75649202, -0.1727302 ],\n",
       "       [-0.21717484, -0.56034738, -0.47907014, -0.23102118,  1.50361882,\n",
       "        -0.75649202, -0.1727302 ],\n",
       "       [ 0.55026653, -0.56034738, -0.47907014, -0.23102118, -0.66506217,\n",
       "         0.42552676, -1.49464503],\n",
       "       [-0.51414128,  1.60594404,  2.08737703, -0.23102118, -0.66506217,\n",
       "         0.42552676,  1.14918462],\n",
       "       [-0.50635564, -0.56034738, -0.47907014, -0.23102118, -0.66506217,\n",
       "        -0.75649202, -0.1727302 ],\n",
       "       [-0.17268548, -0.56034738, -0.47907014, -0.23102118, -0.66506217,\n",
       "        -0.75649202, -1.49464503],\n",
       "       [-0.48411096, -0.56034738, -0.47907014, -0.23102118, -0.66506217,\n",
       "         0.42552676, -0.1727302 ],\n",
       "       [-0.30059238, -0.56034738, -0.47907014, -0.23102118, -0.66506217,\n",
       "        -0.75649202,  1.14918462],\n",
       "       [ 1.02296592, -0.56034738,  2.08737703, -0.23102118, -0.66506217,\n",
       "         1.60754555, -1.49464503],\n",
       "       [-0.52415138, -0.56034738, -0.47907014, -0.23102118, -0.66506217,\n",
       "        -0.75649202, -0.1727302 ],\n",
       "       [-0.77329177, -0.56034738, -0.47907014, -0.23102118, -0.66506217,\n",
       "        -0.75649202, -0.1727302 ],\n",
       "       [-0.0614621 , -0.56034738,  2.08737703, -0.23102118, -0.66506217,\n",
       "        -0.75649202, -0.1727302 ],\n",
       "       [-0.45074395,  1.60594404, -0.47907014, -0.23102118,  1.50361882,\n",
       "         1.60754555, -0.1727302 ],\n",
       "       [-0.22829718, -0.56034738, -0.47907014, -0.23102118,  1.50361882,\n",
       "         1.60754555, -1.49464503],\n",
       "       [-1.12920661, -0.56034738, -0.47907014, -0.23102118, -0.66506217,\n",
       "        -0.75649202, -0.1727302 ],\n",
       "       [-0.96237153, -0.56034738, -0.47907014, -0.23102118,  1.50361882,\n",
       "        -0.75649202,  1.14918462],\n",
       "       [ 0.83944734,  1.60594404, -0.47907014, -0.23102118,  1.50361882,\n",
       "        -0.75649202, -1.49464503],\n",
       "       [-0.17268548,  1.60594404, -0.47907014, -0.23102118,  1.50361882,\n",
       "         0.42552676, -0.1727302 ],\n",
       "       [ 0.43904314, -0.56034738,  2.08737703, -0.23102118,  1.50361882,\n",
       "         1.60754555, -1.49464503],\n",
       "       [-1.54351372,  1.60594404, -0.47907014, -0.23102118, -0.66506217,\n",
       "        -0.75649202,  1.14918462],\n",
       "       [-0.99573854, -0.56034738, -0.47907014, -0.23102118, -0.66506217,\n",
       "         0.42552676,  1.14918462],\n",
       "       [ 1.22588681,  1.60594404,  2.08737703, -0.23102118, -0.66506217,\n",
       "         0.42552676, -0.1727302 ],\n",
       "       [ 0.60587822,  1.60594404,  2.08737703, -0.23102118,  1.50361882,\n",
       "         0.42552676, -1.49464503],\n",
       "       [-1.18092548, -0.56034738, -0.47907014, -0.23102118, -0.66506217,\n",
       "        -0.75649202, -1.49464503],\n",
       "       [ 1.71811209, -0.56034738,  2.08737703, -0.23102118,  1.50361882,\n",
       "         1.60754555, -0.1727302 ],\n",
       "       [ 0.04976129, -0.56034738, -0.47907014, -0.23102118, -0.66506217,\n",
       "        -0.75649202, -1.49464503],\n",
       "       [ 0.04420012,  1.60594404,  2.08737703, -0.23102118, -0.66506217,\n",
       "        -0.75649202, -1.49464503],\n",
       "       [-0.64816546, -0.56034738, -0.47907014, -0.23102118, -0.66506217,\n",
       "        -0.75649202, -1.49464503],\n",
       "       [-1.17369596,  1.60594404, -0.47907014, -0.23102118,  1.50361882,\n",
       "         0.42552676, -0.1727302 ],\n",
       "       [-1.06247258, -0.56034738, -0.47907014, -0.23102118, -0.66506217,\n",
       "        -0.75649202, -0.1727302 ],\n",
       "       [-1.06247258, -0.56034738, -0.47907014, -0.23102118,  1.50361882,\n",
       "         1.60754555, -0.1727302 ],\n",
       "       [ 0.21659637,  1.60594404, -0.47907014, -0.23102118,  1.50361882,\n",
       "        -0.75649202,  1.14918462],\n",
       "       [-0.03921742, -0.56034738, -0.47907014, -0.23102118, -0.66506217,\n",
       "         0.42552676, -0.1727302 ],\n",
       "       [ 0.88393669,  1.60594404, -0.47907014, -0.23102118,  1.50361882,\n",
       "        -0.75649202, -1.49464503],\n",
       "       [-0.03921742, -0.56034738, -0.47907014, -0.23102118, -0.66506217,\n",
       "        -0.75649202,  1.14918462],\n",
       "       [-0.46186629, -0.56034738, -0.47907014, -0.23102118, -0.66506217,\n",
       "         1.60754555, -0.1727302 ]])"
      ]
     },
     "execution_count": 123,
     "metadata": {},
     "output_type": "execute_result"
    }
   ],
   "source": [
    "X_test=sc.transform(X_test)\n",
    "X_test"
   ]
  },
  {
   "attachments": {},
   "cell_type": "markdown",
   "id": "c667bcfd",
   "metadata": {},
   "source": [
    "# Modelling"
   ]
  },
  {
   "attachments": {},
   "cell_type": "markdown",
   "id": "3b7112c1",
   "metadata": {},
   "source": [
    "### Linear Regression"
   ]
  },
  {
   "cell_type": "code",
   "execution_count": 124,
   "id": "e6f01f1a",
   "metadata": {},
   "outputs": [],
   "source": [
    "# importing cost function libraries\n",
    "from sklearn.metrics import mean_absolute_error\n",
    "from sklearn.metrics import mean_squared_error\n",
    "from sklearn.metrics import r2_score\n",
    "from sklearn.linear_model import LinearRegression"
   ]
  },
  {
   "cell_type": "code",
   "execution_count": 125,
   "id": "0e294f1e",
   "metadata": {},
   "outputs": [
    {
     "name": "stdout",
     "output_type": "stream",
     "text": [
      "Coefficients:  [ 454387.28354584  529234.09968946  233658.87165741  183531.17282804\n",
      "  511484.54082745  139233.85101772 -198056.11350198]\n"
     ]
    }
   ],
   "source": [
    "# fitting linear regression model\n",
    "lm = LinearRegression()\n",
    "lm.fit(X_train,y_train)\n",
    "# regression coefficients\n",
    "print('Coefficients: ', lm.coef_)"
   ]
  },
  {
   "cell_type": "code",
   "execution_count": 126,
   "id": "4796fe8b",
   "metadata": {},
   "outputs": [],
   "source": [
    "# fitting model into test data\n",
    "y_pred = lm.predict(X_train)"
   ]
  },
  {
   "cell_type": "code",
   "execution_count": 127,
   "id": "8bd092bb",
   "metadata": {},
   "outputs": [
    {
     "name": "stdout",
     "output_type": "stream",
     "text": [
      "0.5996252224553923\n"
     ]
    }
   ],
   "source": [
    "# calculting rsquared value\n",
    "r2 = r2_score(y_true=y_train,y_pred=y_pred)\n",
    "print(r2)"
   ]
  },
  {
   "cell_type": "code",
   "execution_count": 128,
   "id": "fa2c6b58",
   "metadata": {},
   "outputs": [
    {
     "name": "stdout",
     "output_type": "stream",
     "text": [
      "Adjusted-R2 :  0.5955728461644549\n"
     ]
    }
   ],
   "source": [
    "# calculting adjusted rsquared value\n",
    "N=X.shape[0]\n",
    "p=5\n",
    "x = (1-r2)\n",
    "y = (N-1) / (N-p-1)\n",
    "adj_rsquared = (1 - (x * y))\n",
    "print(\"Adjusted-R2 : \" , adj_rsquared)"
   ]
  },
  {
   "cell_type": "code",
   "execution_count": 129,
   "id": "2ea8a570",
   "metadata": {},
   "outputs": [
    {
     "name": "stdout",
     "output_type": "stream",
     "text": [
      "Mean of Residuals 1.8626451492309571e-10\n"
     ]
    }
   ],
   "source": [
    "# Checking mean value for residuala\n",
    "residuals = y_train.values-y_pred\n",
    "mean_residuals = np.mean(residuals)\n",
    "print(\"Mean of Residuals {}\".format(mean_residuals))"
   ]
  },
  {
   "cell_type": "markdown",
   "id": "a60c3a93",
   "metadata": {},
   "source": [
    "- Mean value is close to 0 hence we are good to go"
   ]
  },
  {
   "cell_type": "code",
   "execution_count": 131,
   "id": "398dcc03",
   "metadata": {},
   "outputs": [
    {
     "data": {
      "image/png": "[encoded data removed]",
      "text/plain": [
       "<Figure size 640x480 with 1 Axes>"
      ]
     },
     "metadata": {},
     "output_type": "display_data"
    }
   ],
   "source": [
    "# scatter plot between predicted value and error\n",
    "p = sns.scatterplot(x=y_pred, y=residuals)\n",
    "plt.xlabel('y_pred/predicted values')\n",
    "plt.ylabel('Residuals')\n",
    "p = sns.lineplot(x=[0,2.6],y=[0,0],color='blue')\n",
    "p = plt.title('Residuals vs fitted values plot for homoscedasticity check')"
   ]
  },
  {
   "cell_type": "code",
   "execution_count": null,
   "id": "0668a700",
   "metadata": {},
   "outputs": [
    {
     "name": "stderr",
     "output_type": "stream",
     "text": [
      "C:\\Users\\prate\\AppData\\Local\\Temp\\ipykernel_19052\\531944841.py:2: UserWarning: \n",
      "\n",
      "`distplot` is a deprecated function and will be removed in seaborn v0.14.0.\n",
      "\n",
      "Please adapt your code to use either `displot` (a figure-level function with\n",
      "similar flexibility) or `histplot` (an axes-level function for histograms).\n",
      "\n",
      "For a guide to updating your code to use the new functions, please see\n",
      "https://gist.github.com/mwaskom/de44147ed2974457ad6372750bbe5751\n",
      "\n",
      "  sns.distplot((y_train-y_pred),bins=50)\n"
     ]
    },
    {
     "data": {
      "text/plain": [
       "<AxesSubplot: xlabel='h_price', ylabel='Density'>"
      ]
     },
     "execution_count": 61,
     "metadata": {},
     "output_type": "execute_result"
    },
    {
     "data": {
      "image/png": "[encoded data removed]",
      "text/plain": [
       "<Figure size 640x480 with 1 Axes>"
      ]
     },
     "metadata": {},
     "output_type": "display_data"
    }
   ],
   "source": [
    "# checking if errors are normally distributed are not\n",
    "sns.distplot((y_train-y_pred),bins=50)"
   ]
  },
  {
   "cell_type": "code",
   "execution_count": null,
   "id": "c2954809",
   "metadata": {},
   "outputs": [],
   "source": [
    "predictions = lm.predict(X_test) # predicting test set"
   ]
  },
  {
   "cell_type": "code",
   "execution_count": null,
   "id": "36f1109d",
   "metadata": {},
   "outputs": [
    {
     "data": {
      "text/plain": [
       "33     8120000.0\n",
       "390    3500000.0\n",
       "128    5810000.0\n",
       "19     8855000.0\n",
       "183    5110000.0\n",
       "Name: h_price, dtype: float64"
      ]
     },
     "execution_count": 63,
     "metadata": {},
     "output_type": "execute_result"
    }
   ],
   "source": [
    "y_test.head()"
   ]
  },
  {
   "cell_type": "code",
   "execution_count": null,
   "id": "8dabf89b",
   "metadata": {},
   "outputs": [
    {
     "data": {
      "text/plain": [
       "array([6281677.35859678, 4439817.25001955, 4490315.44352716,\n",
       "       6460535.35334416, 5068621.44734263, 3078464.79825749,\n",
       "       4553767.21692778, 3855110.81297147, 6144874.97376413,\n",
       "       4402500.19435924, 2762599.21996671, 3640234.07774723,\n",
       "       5630252.56746499, 4032126.15223299, 3747766.82894515,\n",
       "       4946115.91555834, 3311625.79594224, 2899329.76373477,\n",
       "       5093630.80641028, 3798965.24329942, 4825173.25553429,\n",
       "       3839722.96385961, 4401513.34599252, 3606259.04987088,\n",
       "       3694374.48525332, 3356426.50715337, 5966034.6793073 ,\n",
       "       4595499.72848505, 3841596.03540799, 3221512.65359135,\n",
       "       7033487.32169245, 3005460.59804046, 3141637.91391564,\n",
       "       4704068.91960165, 4826624.76397847, 4893207.42831973,\n",
       "       5950512.07318066, 3166907.1601789 , 2959699.34082015,\n",
       "       3965220.50617658, 4512533.14754759, 3080991.72288381,\n",
       "       3412345.77547152, 5439819.48021697, 4360407.17042129,\n",
       "       4294569.39659833, 2883891.60203037, 3972801.28005556,\n",
       "       4664313.50713044, 5177426.54844416, 3781880.31140055,\n",
       "       5957904.07988805, 5560711.82764848, 7412526.01564138,\n",
       "       3290116.85763367, 3176028.01031748, 5309341.60168311,\n",
       "       3304901.16626012, 5550856.82160581, 4307298.15370427,\n",
       "       4428634.1353321 , 5726740.78917174, 4710784.99877104,\n",
       "       4518738.72717025, 3843136.11166759, 6326281.4216099 ,\n",
       "       3664378.31627638, 4019687.84022165, 6011607.89039659,\n",
       "       4865480.62886981, 4763590.52872827, 3168447.2364385 ,\n",
       "       3024412.53273791, 2862739.66924557, 5049554.94323444,\n",
       "       2914214.69754628, 5469742.54110074, 3390587.83257638,\n",
       "       3806546.0171784 , 5444146.36829851, 5370428.53130859,\n",
       "       4494334.17561658, 4478307.93314903, 6852013.83450332,\n",
       "       3362033.5842989 , 4025074.68476308, 5867034.99269648,\n",
       "       6954077.6679231 , 5903160.42710822, 4598613.46684596,\n",
       "       4669367.35638309, 4335226.49197345, 5074094.93254577,\n",
       "       3428720.4729501 , 3842149.26330087, 3603405.19870558,\n",
       "       3260403.37135297, 5314265.26134599, 3420634.31414586,\n",
       "       3307428.09088644, 4230547.59194083, 6038865.86728666,\n",
       "       5255280.87440199, 3145704.91480157, 4068946.14368419,\n",
       "       6557771.63886518, 6000635.07135279, 6158184.97844577,\n",
       "       3842111.00807798, 3109114.82031237, 6126554.88395414,\n",
       "       7215890.9806943 , 3384017.82854793, 6477564.32972959,\n",
       "       3943226.24835392, 5686847.76332114, 3626097.20774998,\n",
       "       5545788.63861408, 3176028.01031748, 4614428.86768186,\n",
       "       5751129.45517425, 3805559.16881168, 6577987.03587579,\n",
       "       3379168.8287903 , 3778089.92446106])"
      ]
     },
     "execution_count": 64,
     "metadata": {},
     "output_type": "execute_result"
    }
   ],
   "source": [
    "predictions\n"
   ]
  },
  {
   "cell_type": "code",
   "execution_count": null,
   "id": "28e92848",
   "metadata": {},
   "outputs": [
    {
     "data": {
      "text/plain": [
       "<matplotlib.collections.PathCollection at 0x27b701ef4f0>"
      ]
     },
     "execution_count": 65,
     "metadata": {},
     "output_type": "execute_result"
    },
    {
     "data": {
      "image/png": "[encoded data removed]",
      "text/plain": [
       "<Figure size 640x480 with 1 Axes>"
      ]
     },
     "metadata": {},
     "output_type": "display_data"
    }
   ],
   "source": [
    "# scatter plot between actaul and predicted value \n",
    "plt.scatter(y_test,predictions)"
   ]
  },
  {
   "cell_type": "code",
   "execution_count": null,
   "id": "e6788bb6",
   "metadata": {},
   "outputs": [
    {
     "name": "stdout",
     "output_type": "stream",
     "text": [
      "MAE: 898650.8669975961\n",
      "MSE: 1295345910141.8623\n",
      "RMSE: 1138132.6417170637\n"
     ]
    }
   ],
   "source": [
    "# Calculating error\n",
    "from sklearn import metrics\n",
    "print('MAE:', metrics.mean_absolute_error(y_test, predictions))\n",
    "print('MSE:', metrics.mean_squared_error(y_test, predictions))\n",
    "print('RMSE:', np.sqrt(metrics.mean_squared_error(y_test, predictions)))"
   ]
  },
  {
   "cell_type": "markdown",
   "id": "c0a56d4f",
   "metadata": {},
   "source": [
    "## Random forest regression"
   ]
  },
  {
   "cell_type": "code",
   "execution_count": null,
   "id": "bfe7f76d",
   "metadata": {},
   "outputs": [
    {
     "data": {
      "text/html": [
       "<style>#sk-container-id-1 {color: black;background-color: white;}#sk-container-id-1 pre{padding: 0;}#sk-container-id-1 div.sk-toggleable {background-color: white;}#sk-container-id-1 label.sk-toggleable__label {cursor: pointer;display: block;width: 100%;margin-bottom: 0;padding: 0.3em;box-sizing: border-box;text-align: center;}#sk-container-id-1 label.sk-toggleable__label-arrow:before {content: \"▸\";float: left;margin-right: 0.25em;color: #696969;}#sk-container-id-1 label.sk-toggleable__label-arrow:hover:before {color: black;}#sk-container-id-1 div.sk-estimator:hover label.sk-toggleable__label-arrow:before {color: black;}#sk-container-id-1 div.sk-toggleable__content {max-height: 0;max-width: 0;overflow: hidden;text-align: left;background-color: #f0f8ff;}#sk-container-id-1 div.sk-toggleable__content pre {margin: 0.2em;color: black;border-radius: 0.25em;background-color: #f0f8ff;}#sk-container-id-1 input.sk-toggleable__control:checked~div.sk-toggleable__content {max-height: 200px;max-width: 100%;overflow: auto;}#sk-container-id-1 input.sk-toggleable__control:checked~label.sk-toggleable__label-arrow:before {content: \"▾\";}#sk-container-id-1 div.sk-estimator input.sk-toggleable__control:checked~label.sk-toggleable__label {background-color: #d4ebff;}#sk-container-id-1 div.sk-label input.sk-toggleable__control:checked~label.sk-toggleable__label {background-color: #d4ebff;}#sk-container-id-1 input.sk-hidden--visually {border: 0;clip: rect(1px 1px 1px 1px);clip: rect(1px, 1px, 1px, 1px);height: 1px;margin: -1px;overflow: hidden;padding: 0;position: absolute;width: 1px;}#sk-container-id-1 div.sk-estimator {font-family: monospace;background-color: #f0f8ff;border: 1px dotted black;border-radius: 0.25em;box-sizing: border-box;margin-bottom: 0.5em;}#sk-container-id-1 div.sk-estimator:hover {background-color: #d4ebff;}#sk-container-id-1 div.sk-parallel-item::after {content: \"\";width: 100%;border-bottom: 1px solid gray;flex-grow: 1;}#sk-container-id-1 div.sk-label:hover label.sk-toggleable__label {background-color: #d4ebff;}#sk-container-id-1 div.sk-serial::before {content: \"\";position: absolute;border-left: 1px solid gray;box-sizing: border-box;top: 0;bottom: 0;left: 50%;z-index: 0;}#sk-container-id-1 div.sk-serial {display: flex;flex-direction: column;align-items: center;background-color: white;padding-right: 0.2em;padding-left: 0.2em;position: relative;}#sk-container-id-1 div.sk-item {position: relative;z-index: 1;}#sk-container-id-1 div.sk-parallel {display: flex;align-items: stretch;justify-content: center;background-color: white;position: relative;}#sk-container-id-1 div.sk-item::before, #sk-container-id-1 div.sk-parallel-item::before {content: \"\";position: absolute;border-left: 1px solid gray;box-sizing: border-box;top: 0;bottom: 0;left: 50%;z-index: -1;}#sk-container-id-1 div.sk-parallel-item {display: flex;flex-direction: column;z-index: 1;position: relative;background-color: white;}#sk-container-id-1 div.sk-parallel-item:first-child::after {align-self: flex-end;width: 50%;}#sk-container-id-1 div.sk-parallel-item:last-child::after {align-self: flex-start;width: 50%;}#sk-container-id-1 div.sk-parallel-item:only-child::after {width: 0;}#sk-container-id-1 div.sk-dashed-wrapped {border: 1px dashed gray;margin: 0 0.4em 0.5em 0.4em;box-sizing: border-box;padding-bottom: 0.4em;background-color: white;}#sk-container-id-1 div.sk-label label {font-family: monospace;font-weight: bold;display: inline-block;line-height: 1.2em;}#sk-container-id-1 div.sk-label-container {text-align: center;}#sk-container-id-1 div.sk-container {/* jupyter's `normalize.less` sets `[hidden] { display: none; }` but bootstrap.min.css set `[hidden] { display: none !important; }` so we also need the `!important` here to be able to override the default hidden behavior on the sphinx rendered scikit-learn.org. See: https://github.com/scikit-learn/scikit-learn/issues/21755 */display: inline-block !important;position: relative;}#sk-container-id-1 div.sk-text-repr-fallback {display: none;}</style><div id=\"sk-container-id-1\" class=\"sk-top-container\"><div class=\"sk-text-repr-fallback\"><pre>RandomForestRegressor(random_state=0)</pre><b>In a Jupyter environment, please rerun this cell to show the HTML representation or trust the notebook. <br />On GitHub, the HTML representation is unable to render, please try loading this page with nbviewer.org.</b></div><div class=\"sk-container\" hidden><div class=\"sk-item\"><div class=\"sk-estimator sk-toggleable\"><input class=\"sk-toggleable__control sk-hidden--visually\" id=\"sk-estimator-id-1\" type=\"checkbox\" checked><label for=\"sk-estimator-id-1\" class=\"sk-toggleable__label sk-toggleable__label-arrow\">RandomForestRegressor</label><div class=\"sk-toggleable__content\"><pre>RandomForestRegressor(random_state=0)</pre></div></div></div></div></div>"
      ],
      "text/plain": [
       "RandomForestRegressor(random_state=0)"
      ]
     },
     "execution_count": 70,
     "metadata": {},
     "output_type": "execute_result"
    }
   ],
   "source": [
    "# Importing library\n",
    "from sklearn.ensemble import RandomForestRegressor\n",
    "  \n",
    " # create regressor object\n",
    "regressor = RandomForestRegressor(n_estimators = 100, random_state = 0)\n",
    "  \n",
    "# fit the regressor with x and y data\n",
    "regressor.fit(X_train, y_train) "
   ]
  },
  {
   "cell_type": "code",
   "execution_count": null,
   "id": "a6dfb122",
   "metadata": {},
   "outputs": [
    {
     "data": {
      "text/plain": [
       "array([6284985.        , 4934930.        , 3863860.        ,\n",
       "       7569730.        , 4945640.        , 2300304.08333333,\n",
       "       4692327.5       , 4061260.        , 4957960.        ,\n",
       "       3612595.        , 2813510.        , 3441900.        ,\n",
       "       6879180.        , 3078180.        , 4136300.        ,\n",
       "       5318880.        , 3196697.        , 2497250.        ,\n",
       "       4139800.        , 4450390.        , 4941860.        ,\n",
       "       3917130.        , 4654930.        , 4104159.5       ,\n",
       "       4759195.        , 3393740.        , 4271960.        ,\n",
       "       4780510.        , 4412100.        , 3755220.        ,\n",
       "       7903700.        , 3085458.83333333, 3037002.5       ,\n",
       "       5009083.33333333, 4583460.        , 4839625.        ,\n",
       "       4813620.        , 3113110.        , 2473030.        ,\n",
       "       4785900.        , 3818955.        , 2300304.08333333,\n",
       "       4234195.        , 4165420.        , 3965725.        ,\n",
       "       4681880.        , 2476833.33333333, 4741100.        ,\n",
       "       4327365.        , 4531800.        , 4365200.        ,\n",
       "       5451145.        , 5428920.        , 8099700.        ,\n",
       "       2859780.        , 2655730.        , 5920600.        ,\n",
       "       4305210.        , 5391190.        , 3682770.        ,\n",
       "       3846080.        , 5437075.        , 4178825.        ,\n",
       "       4917780.        , 4062800.        , 7237136.66666667,\n",
       "       4086600.        , 4176130.        , 5663280.        ,\n",
       "       4496975.        , 4791850.        , 2661330.        ,\n",
       "       3111279.5       , 2562350.        , 6424880.        ,\n",
       "       2163408.33333333, 4934790.        , 3264100.        ,\n",
       "       4453330.        , 5169710.        , 3901674.        ,\n",
       "       4277490.        , 4586190.        , 7231140.        ,\n",
       "       3461080.        , 4196290.        , 4796353.33333333,\n",
       "       7368130.        , 4791150.        , 4626405.        ,\n",
       "       4324413.33333333, 4735710.        , 4549580.        ,\n",
       "       3749130.        , 3985356.66666667, 4323340.        ,\n",
       "       3351197.5       , 5872650.        , 3287900.        ,\n",
       "       4208890.        , 4404260.        , 5604760.        ,\n",
       "       4547620.        , 3290280.        , 2918930.        ,\n",
       "       7476886.66666667, 6016150.        , 5683545.        ,\n",
       "       3761940.        , 3005730.        , 5546450.        ,\n",
       "       7306833.33333333, 3231200.        , 6449940.        ,\n",
       "       4316795.        , 5008290.        , 3608780.        ,\n",
       "       4156687.5       , 2655730.        , 4237817.5       ,\n",
       "       5710856.66666667, 4479230.        , 7275986.66666667,\n",
       "       3506160.        , 4208750.        ])"
      ]
     },
     "execution_count": 71,
     "metadata": {},
     "output_type": "execute_result"
    }
   ],
   "source": [
    "# performing prediction\n",
    "y_pred = regressor.predict(X_test)\n",
    "y_pred"
   ]
  },
  {
   "cell_type": "code",
   "execution_count": null,
   "id": "c1f27e00",
   "metadata": {},
   "outputs": [
    {
     "name": "stdout",
     "output_type": "stream",
     "text": [
      "MAE: 899333.5160000001\n",
      "MSE: 1321000485483.2827\n",
      "RMSE: 1149347.852255044\n"
     ]
    }
   ],
   "source": [
    "# calculating error\n",
    "print('MAE:', metrics.mean_absolute_error(y_test, y_pred))\n",
    "print('MSE:', metrics.mean_squared_error(y_test, y_pred))\n",
    "print('RMSE:', np.sqrt(metrics.mean_squared_error(y_test, y_pred)))"
   ]
  },
  {
   "cell_type": "markdown",
   "id": "0dc53099",
   "metadata": {},
   "source": [
    "## Support vector regression"
   ]
  },
  {
   "cell_type": "code",
   "execution_count": null,
   "id": "b0dd72ed",
   "metadata": {},
   "outputs": [
    {
     "data": {
      "text/html": [
       "<style>#sk-container-id-3 {color: black;background-color: white;}#sk-container-id-3 pre{padding: 0;}#sk-container-id-3 div.sk-toggleable {background-color: white;}#sk-container-id-3 label.sk-toggleable__label {cursor: pointer;display: block;width: 100%;margin-bottom: 0;padding: 0.3em;box-sizing: border-box;text-align: center;}#sk-container-id-3 label.sk-toggleable__label-arrow:before {content: \"▸\";float: left;margin-right: 0.25em;color: #696969;}#sk-container-id-3 label.sk-toggleable__label-arrow:hover:before {color: black;}#sk-container-id-3 div.sk-estimator:hover label.sk-toggleable__label-arrow:before {color: black;}#sk-container-id-3 div.sk-toggleable__content {max-height: 0;max-width: 0;overflow: hidden;text-align: left;background-color: #f0f8ff;}#sk-container-id-3 div.sk-toggleable__content pre {margin: 0.2em;color: black;border-radius: 0.25em;background-color: #f0f8ff;}#sk-container-id-3 input.sk-toggleable__control:checked~div.sk-toggleable__content {max-height: 200px;max-width: 100%;overflow: auto;}#sk-container-id-3 input.sk-toggleable__control:checked~label.sk-toggleable__label-arrow:before {content: \"▾\";}#sk-container-id-3 div.sk-estimator input.sk-toggleable__control:checked~label.sk-toggleable__label {background-color: #d4ebff;}#sk-container-id-3 div.sk-label input.sk-toggleable__control:checked~label.sk-toggleable__label {background-color: #d4ebff;}#sk-container-id-3 input.sk-hidden--visually {border: 0;clip: rect(1px 1px 1px 1px);clip: rect(1px, 1px, 1px, 1px);height: 1px;margin: -1px;overflow: hidden;padding: 0;position: absolute;width: 1px;}#sk-container-id-3 div.sk-estimator {font-family: monospace;background-color: #f0f8ff;border: 1px dotted black;border-radius: 0.25em;box-sizing: border-box;margin-bottom: 0.5em;}#sk-container-id-3 div.sk-estimator:hover {background-color: #d4ebff;}#sk-container-id-3 div.sk-parallel-item::after {content: \"\";width: 100%;border-bottom: 1px solid gray;flex-grow: 1;}#sk-container-id-3 div.sk-label:hover label.sk-toggleable__label {background-color: #d4ebff;}#sk-container-id-3 div.sk-serial::before {content: \"\";position: absolute;border-left: 1px solid gray;box-sizing: border-box;top: 0;bottom: 0;left: 50%;z-index: 0;}#sk-container-id-3 div.sk-serial {display: flex;flex-direction: column;align-items: center;background-color: white;padding-right: 0.2em;padding-left: 0.2em;position: relative;}#sk-container-id-3 div.sk-item {position: relative;z-index: 1;}#sk-container-id-3 div.sk-parallel {display: flex;align-items: stretch;justify-content: center;background-color: white;position: relative;}#sk-container-id-3 div.sk-item::before, #sk-container-id-3 div.sk-parallel-item::before {content: \"\";position: absolute;border-left: 1px solid gray;box-sizing: border-box;top: 0;bottom: 0;left: 50%;z-index: -1;}#sk-container-id-3 div.sk-parallel-item {display: flex;flex-direction: column;z-index: 1;position: relative;background-color: white;}#sk-container-id-3 div.sk-parallel-item:first-child::after {align-self: flex-end;width: 50%;}#sk-container-id-3 div.sk-parallel-item:last-child::after {align-self: flex-start;width: 50%;}#sk-container-id-3 div.sk-parallel-item:only-child::after {width: 0;}#sk-container-id-3 div.sk-dashed-wrapped {border: 1px dashed gray;margin: 0 0.4em 0.5em 0.4em;box-sizing: border-box;padding-bottom: 0.4em;background-color: white;}#sk-container-id-3 div.sk-label label {font-family: monospace;font-weight: bold;display: inline-block;line-height: 1.2em;}#sk-container-id-3 div.sk-label-container {text-align: center;}#sk-container-id-3 div.sk-container {/* jupyter's `normalize.less` sets `[hidden] { display: none; }` but bootstrap.min.css set `[hidden] { display: none !important; }` so we also need the `!important` here to be able to override the default hidden behavior on the sphinx rendered scikit-learn.org. See: https://github.com/scikit-learn/scikit-learn/issues/21755 */display: inline-block !important;position: relative;}#sk-container-id-3 div.sk-text-repr-fallback {display: none;}</style><div id=\"sk-container-id-3\" class=\"sk-top-container\"><div class=\"sk-text-repr-fallback\"><pre>SVR()</pre><b>In a Jupyter environment, please rerun this cell to show the HTML representation or trust the notebook. <br />On GitHub, the HTML representation is unable to render, please try loading this page with nbviewer.org.</b></div><div class=\"sk-container\" hidden><div class=\"sk-item\"><div class=\"sk-estimator sk-toggleable\"><input class=\"sk-toggleable__control sk-hidden--visually\" id=\"sk-estimator-id-3\" type=\"checkbox\" checked><label for=\"sk-estimator-id-3\" class=\"sk-toggleable__label sk-toggleable__label-arrow\">SVR</label><div class=\"sk-toggleable__content\"><pre>SVR()</pre></div></div></div></div></div>"
      ],
      "text/plain": [
       "SVR()"
      ]
     },
     "execution_count": 74,
     "metadata": {},
     "output_type": "execute_result"
    }
   ],
   "source": [
    "# Importing SVR library and creating model\n",
    "from sklearn.svm import SVR\n",
    "regressor = SVR(kernel = 'rbf')\n",
    "regressor.fit(X_train, y_train)"
   ]
  },
  {
   "cell_type": "code",
   "execution_count": null,
   "id": "ee659304",
   "metadata": {},
   "outputs": [],
   "source": [
    "y_pred = regressor.predict(X_test) # prediciting y"
   ]
  },
  {
   "cell_type": "code",
   "execution_count": null,
   "id": "d87d9b36",
   "metadata": {},
   "outputs": [
    {
     "name": "stdout",
     "output_type": "stream",
     "text": [
      "MAE: 1189061.9623213564\n",
      "MSE: 2634614332657.3945\n",
      "RMSE: 1623149.510260036\n"
     ]
    }
   ],
   "source": [
    "# Calculating error\n",
    "print('MAE:', metrics.mean_absolute_error(y_test, y_pred))\n",
    "print('MSE:', metrics.mean_squared_error(y_test, y_pred))\n",
    "print('RMSE:', np.sqrt(metrics.mean_squared_error(y_test, y_pred)))"
   ]
  },
  {
   "attachments": {},
   "cell_type": "markdown",
   "id": "79e0b481",
   "metadata": {},
   "source": [
    "### Conclusion\n",
    "Here, we performed 3 different models to check which model seems to give a better accuracy or least error. Overall, number of bedrooms and location from the main road do not seem to be a good predictor of a house price. Hence, they were dropped from all models. Linear regression seems to be the best model as it has the lowest error, but linear relationship between price and area is not very linear. Random forest model may be the best model in this scenario. We can also perform cross validation and parameter optimization to improve the model accuracy.  "
   ]
  }
 ],
 "metadata": {
  "kernelspec": {
   "display_name": "Python 3",
   "language": "python",
   "name": "python3"
  },
  "language_info": {
   "codemirror_mode": {
    "name": "ipython",
    "version": 3
   },
   "file_extension": ".py",
   "mimetype": "text/x-python",
   "name": "python",
   "nbconvert_exporter": "python",
   "pygments_lexer": "ipython3",
   "version": "3.10.8"
  },
  "vscode": {
   "interpreter": {
    "hash": "a9e1fd7a2e46eb840a8adc7a2cabae756acfcbc34a8c7d4b0aee6413053f8c96"
   }
  }
 },
 "nbformat": 4,
 "nbformat_minor": 5
}
